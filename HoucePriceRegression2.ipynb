{
 "cells": [
  {
   "cell_type": "markdown",
   "id": "277262a3-18de-44ab-9991-f3bd77cb2a40",
   "metadata": {},
   "source": [
    "# 0. Import"
   ]
  },
  {
   "cell_type": "code",
   "execution_count": 173,
   "id": "3e08e742-e151-4e8c-b58c-9189b874e95a",
   "metadata": {},
   "outputs": [],
   "source": [
    "# Some imports\n",
    "import numpy as np \n",
    "import pandas as pd\n",
    "import matplotlib.pyplot as plt\n",
    "import seaborn as sns\n",
    "from scipy import stats\n",
    "from scipy.stats import norm, skew\n",
    "\n",
    "# Ignore warnings\n",
    "import warnings\n",
    "def ignore_warn(*args, **kwargs):\n",
    "    pass\n",
    "warnings.warn = ignore_warn"
   ]
  },
  {
   "cell_type": "code",
   "execution_count": 174,
   "id": "08c2f816-57cb-40e0-a4f8-b183cab319bf",
   "metadata": {},
   "outputs": [
    {
     "data": {
      "text/html": [
       "<div>\n",
       "<style scoped>\n",
       "    .dataframe tbody tr th:only-of-type {\n",
       "        vertical-align: middle;\n",
       "    }\n",
       "\n",
       "    .dataframe tbody tr th {\n",
       "        vertical-align: top;\n",
       "    }\n",
       "\n",
       "    .dataframe thead th {\n",
       "        text-align: right;\n",
       "    }\n",
       "</style>\n",
       "<table border=\"1\" class=\"dataframe\">\n",
       "  <thead>\n",
       "    <tr style=\"text-align: right;\">\n",
       "      <th></th>\n",
       "      <th>MSSubClass</th>\n",
       "      <th>MSZoning</th>\n",
       "      <th>LotFrontage</th>\n",
       "      <th>LotArea</th>\n",
       "      <th>Street</th>\n",
       "      <th>Alley</th>\n",
       "      <th>LotShape</th>\n",
       "      <th>LandContour</th>\n",
       "      <th>Utilities</th>\n",
       "      <th>LotConfig</th>\n",
       "      <th>...</th>\n",
       "      <th>PoolArea</th>\n",
       "      <th>PoolQC</th>\n",
       "      <th>Fence</th>\n",
       "      <th>MiscFeature</th>\n",
       "      <th>MiscVal</th>\n",
       "      <th>MoSold</th>\n",
       "      <th>YrSold</th>\n",
       "      <th>SaleType</th>\n",
       "      <th>SaleCondition</th>\n",
       "      <th>SalePrice</th>\n",
       "    </tr>\n",
       "    <tr>\n",
       "      <th>Id</th>\n",
       "      <th></th>\n",
       "      <th></th>\n",
       "      <th></th>\n",
       "      <th></th>\n",
       "      <th></th>\n",
       "      <th></th>\n",
       "      <th></th>\n",
       "      <th></th>\n",
       "      <th></th>\n",
       "      <th></th>\n",
       "      <th></th>\n",
       "      <th></th>\n",
       "      <th></th>\n",
       "      <th></th>\n",
       "      <th></th>\n",
       "      <th></th>\n",
       "      <th></th>\n",
       "      <th></th>\n",
       "      <th></th>\n",
       "      <th></th>\n",
       "      <th></th>\n",
       "    </tr>\n",
       "  </thead>\n",
       "  <tbody>\n",
       "    <tr>\n",
       "      <th>1</th>\n",
       "      <td>60</td>\n",
       "      <td>RL</td>\n",
       "      <td>65.0</td>\n",
       "      <td>8450</td>\n",
       "      <td>Pave</td>\n",
       "      <td>NaN</td>\n",
       "      <td>Reg</td>\n",
       "      <td>Lvl</td>\n",
       "      <td>AllPub</td>\n",
       "      <td>Inside</td>\n",
       "      <td>...</td>\n",
       "      <td>0</td>\n",
       "      <td>NaN</td>\n",
       "      <td>NaN</td>\n",
       "      <td>NaN</td>\n",
       "      <td>0</td>\n",
       "      <td>2</td>\n",
       "      <td>2008</td>\n",
       "      <td>WD</td>\n",
       "      <td>Normal</td>\n",
       "      <td>208500</td>\n",
       "    </tr>\n",
       "    <tr>\n",
       "      <th>2</th>\n",
       "      <td>20</td>\n",
       "      <td>RL</td>\n",
       "      <td>80.0</td>\n",
       "      <td>9600</td>\n",
       "      <td>Pave</td>\n",
       "      <td>NaN</td>\n",
       "      <td>Reg</td>\n",
       "      <td>Lvl</td>\n",
       "      <td>AllPub</td>\n",
       "      <td>FR2</td>\n",
       "      <td>...</td>\n",
       "      <td>0</td>\n",
       "      <td>NaN</td>\n",
       "      <td>NaN</td>\n",
       "      <td>NaN</td>\n",
       "      <td>0</td>\n",
       "      <td>5</td>\n",
       "      <td>2007</td>\n",
       "      <td>WD</td>\n",
       "      <td>Normal</td>\n",
       "      <td>181500</td>\n",
       "    </tr>\n",
       "    <tr>\n",
       "      <th>3</th>\n",
       "      <td>60</td>\n",
       "      <td>RL</td>\n",
       "      <td>68.0</td>\n",
       "      <td>11250</td>\n",
       "      <td>Pave</td>\n",
       "      <td>NaN</td>\n",
       "      <td>IR1</td>\n",
       "      <td>Lvl</td>\n",
       "      <td>AllPub</td>\n",
       "      <td>Inside</td>\n",
       "      <td>...</td>\n",
       "      <td>0</td>\n",
       "      <td>NaN</td>\n",
       "      <td>NaN</td>\n",
       "      <td>NaN</td>\n",
       "      <td>0</td>\n",
       "      <td>9</td>\n",
       "      <td>2008</td>\n",
       "      <td>WD</td>\n",
       "      <td>Normal</td>\n",
       "      <td>223500</td>\n",
       "    </tr>\n",
       "    <tr>\n",
       "      <th>4</th>\n",
       "      <td>70</td>\n",
       "      <td>RL</td>\n",
       "      <td>60.0</td>\n",
       "      <td>9550</td>\n",
       "      <td>Pave</td>\n",
       "      <td>NaN</td>\n",
       "      <td>IR1</td>\n",
       "      <td>Lvl</td>\n",
       "      <td>AllPub</td>\n",
       "      <td>Corner</td>\n",
       "      <td>...</td>\n",
       "      <td>0</td>\n",
       "      <td>NaN</td>\n",
       "      <td>NaN</td>\n",
       "      <td>NaN</td>\n",
       "      <td>0</td>\n",
       "      <td>2</td>\n",
       "      <td>2006</td>\n",
       "      <td>WD</td>\n",
       "      <td>Abnorml</td>\n",
       "      <td>140000</td>\n",
       "    </tr>\n",
       "    <tr>\n",
       "      <th>5</th>\n",
       "      <td>60</td>\n",
       "      <td>RL</td>\n",
       "      <td>84.0</td>\n",
       "      <td>14260</td>\n",
       "      <td>Pave</td>\n",
       "      <td>NaN</td>\n",
       "      <td>IR1</td>\n",
       "      <td>Lvl</td>\n",
       "      <td>AllPub</td>\n",
       "      <td>FR2</td>\n",
       "      <td>...</td>\n",
       "      <td>0</td>\n",
       "      <td>NaN</td>\n",
       "      <td>NaN</td>\n",
       "      <td>NaN</td>\n",
       "      <td>0</td>\n",
       "      <td>12</td>\n",
       "      <td>2008</td>\n",
       "      <td>WD</td>\n",
       "      <td>Normal</td>\n",
       "      <td>250000</td>\n",
       "    </tr>\n",
       "  </tbody>\n",
       "</table>\n",
       "<p>5 rows × 80 columns</p>\n",
       "</div>"
      ],
      "text/plain": [
       "    MSSubClass MSZoning  LotFrontage  LotArea Street Alley LotShape  \\\n",
       "Id                                                                    \n",
       "1           60       RL         65.0     8450   Pave   NaN      Reg   \n",
       "2           20       RL         80.0     9600   Pave   NaN      Reg   \n",
       "3           60       RL         68.0    11250   Pave   NaN      IR1   \n",
       "4           70       RL         60.0     9550   Pave   NaN      IR1   \n",
       "5           60       RL         84.0    14260   Pave   NaN      IR1   \n",
       "\n",
       "   LandContour Utilities LotConfig  ... PoolArea PoolQC Fence MiscFeature  \\\n",
       "Id                                  ...                                     \n",
       "1          Lvl    AllPub    Inside  ...        0    NaN   NaN         NaN   \n",
       "2          Lvl    AllPub       FR2  ...        0    NaN   NaN         NaN   \n",
       "3          Lvl    AllPub    Inside  ...        0    NaN   NaN         NaN   \n",
       "4          Lvl    AllPub    Corner  ...        0    NaN   NaN         NaN   \n",
       "5          Lvl    AllPub       FR2  ...        0    NaN   NaN         NaN   \n",
       "\n",
       "   MiscVal MoSold  YrSold  SaleType  SaleCondition  SalePrice  \n",
       "Id                                                             \n",
       "1        0      2    2008        WD         Normal     208500  \n",
       "2        0      5    2007        WD         Normal     181500  \n",
       "3        0      9    2008        WD         Normal     223500  \n",
       "4        0      2    2006        WD        Abnorml     140000  \n",
       "5        0     12    2008        WD         Normal     250000  \n",
       "\n",
       "[5 rows x 80 columns]"
      ]
     },
     "execution_count": 174,
     "metadata": {},
     "output_type": "execute_result"
    }
   ],
   "source": [
    "DATA_DIR = \"house-prices-advanced-regression-techniques/\"\n",
    "train_df = pd.read_csv(DATA_DIR + 'train.csv', index_col='Id')\n",
    "test_df = pd.read_csv(DATA_DIR + 'test.csv', index_col='Id')\n",
    "train_df.head()"
   ]
  },
  {
   "cell_type": "code",
   "execution_count": 175,
   "id": "9ba45a73-8e3d-4aa3-8f02-42764061f2a2",
   "metadata": {},
   "outputs": [
    {
     "data": {
      "text/html": [
       "<div>\n",
       "<style scoped>\n",
       "    .dataframe tbody tr th:only-of-type {\n",
       "        vertical-align: middle;\n",
       "    }\n",
       "\n",
       "    .dataframe tbody tr th {\n",
       "        vertical-align: top;\n",
       "    }\n",
       "\n",
       "    .dataframe thead th {\n",
       "        text-align: right;\n",
       "    }\n",
       "</style>\n",
       "<table border=\"1\" class=\"dataframe\">\n",
       "  <thead>\n",
       "    <tr style=\"text-align: right;\">\n",
       "      <th></th>\n",
       "      <th>MSSubClass</th>\n",
       "      <th>MSZoning</th>\n",
       "      <th>LotFrontage</th>\n",
       "      <th>LotArea</th>\n",
       "      <th>Street</th>\n",
       "      <th>Alley</th>\n",
       "      <th>LotShape</th>\n",
       "      <th>LandContour</th>\n",
       "      <th>Utilities</th>\n",
       "      <th>LotConfig</th>\n",
       "      <th>...</th>\n",
       "      <th>ScreenPorch</th>\n",
       "      <th>PoolArea</th>\n",
       "      <th>PoolQC</th>\n",
       "      <th>Fence</th>\n",
       "      <th>MiscFeature</th>\n",
       "      <th>MiscVal</th>\n",
       "      <th>MoSold</th>\n",
       "      <th>YrSold</th>\n",
       "      <th>SaleType</th>\n",
       "      <th>SaleCondition</th>\n",
       "    </tr>\n",
       "    <tr>\n",
       "      <th>Id</th>\n",
       "      <th></th>\n",
       "      <th></th>\n",
       "      <th></th>\n",
       "      <th></th>\n",
       "      <th></th>\n",
       "      <th></th>\n",
       "      <th></th>\n",
       "      <th></th>\n",
       "      <th></th>\n",
       "      <th></th>\n",
       "      <th></th>\n",
       "      <th></th>\n",
       "      <th></th>\n",
       "      <th></th>\n",
       "      <th></th>\n",
       "      <th></th>\n",
       "      <th></th>\n",
       "      <th></th>\n",
       "      <th></th>\n",
       "      <th></th>\n",
       "      <th></th>\n",
       "    </tr>\n",
       "  </thead>\n",
       "  <tbody>\n",
       "    <tr>\n",
       "      <th>1461</th>\n",
       "      <td>20</td>\n",
       "      <td>RH</td>\n",
       "      <td>80.0</td>\n",
       "      <td>11622</td>\n",
       "      <td>Pave</td>\n",
       "      <td>NaN</td>\n",
       "      <td>Reg</td>\n",
       "      <td>Lvl</td>\n",
       "      <td>AllPub</td>\n",
       "      <td>Inside</td>\n",
       "      <td>...</td>\n",
       "      <td>120</td>\n",
       "      <td>0</td>\n",
       "      <td>NaN</td>\n",
       "      <td>MnPrv</td>\n",
       "      <td>NaN</td>\n",
       "      <td>0</td>\n",
       "      <td>6</td>\n",
       "      <td>2010</td>\n",
       "      <td>WD</td>\n",
       "      <td>Normal</td>\n",
       "    </tr>\n",
       "    <tr>\n",
       "      <th>1462</th>\n",
       "      <td>20</td>\n",
       "      <td>RL</td>\n",
       "      <td>81.0</td>\n",
       "      <td>14267</td>\n",
       "      <td>Pave</td>\n",
       "      <td>NaN</td>\n",
       "      <td>IR1</td>\n",
       "      <td>Lvl</td>\n",
       "      <td>AllPub</td>\n",
       "      <td>Corner</td>\n",
       "      <td>...</td>\n",
       "      <td>0</td>\n",
       "      <td>0</td>\n",
       "      <td>NaN</td>\n",
       "      <td>NaN</td>\n",
       "      <td>Gar2</td>\n",
       "      <td>12500</td>\n",
       "      <td>6</td>\n",
       "      <td>2010</td>\n",
       "      <td>WD</td>\n",
       "      <td>Normal</td>\n",
       "    </tr>\n",
       "    <tr>\n",
       "      <th>1463</th>\n",
       "      <td>60</td>\n",
       "      <td>RL</td>\n",
       "      <td>74.0</td>\n",
       "      <td>13830</td>\n",
       "      <td>Pave</td>\n",
       "      <td>NaN</td>\n",
       "      <td>IR1</td>\n",
       "      <td>Lvl</td>\n",
       "      <td>AllPub</td>\n",
       "      <td>Inside</td>\n",
       "      <td>...</td>\n",
       "      <td>0</td>\n",
       "      <td>0</td>\n",
       "      <td>NaN</td>\n",
       "      <td>MnPrv</td>\n",
       "      <td>NaN</td>\n",
       "      <td>0</td>\n",
       "      <td>3</td>\n",
       "      <td>2010</td>\n",
       "      <td>WD</td>\n",
       "      <td>Normal</td>\n",
       "    </tr>\n",
       "    <tr>\n",
       "      <th>1464</th>\n",
       "      <td>60</td>\n",
       "      <td>RL</td>\n",
       "      <td>78.0</td>\n",
       "      <td>9978</td>\n",
       "      <td>Pave</td>\n",
       "      <td>NaN</td>\n",
       "      <td>IR1</td>\n",
       "      <td>Lvl</td>\n",
       "      <td>AllPub</td>\n",
       "      <td>Inside</td>\n",
       "      <td>...</td>\n",
       "      <td>0</td>\n",
       "      <td>0</td>\n",
       "      <td>NaN</td>\n",
       "      <td>NaN</td>\n",
       "      <td>NaN</td>\n",
       "      <td>0</td>\n",
       "      <td>6</td>\n",
       "      <td>2010</td>\n",
       "      <td>WD</td>\n",
       "      <td>Normal</td>\n",
       "    </tr>\n",
       "    <tr>\n",
       "      <th>1465</th>\n",
       "      <td>120</td>\n",
       "      <td>RL</td>\n",
       "      <td>43.0</td>\n",
       "      <td>5005</td>\n",
       "      <td>Pave</td>\n",
       "      <td>NaN</td>\n",
       "      <td>IR1</td>\n",
       "      <td>HLS</td>\n",
       "      <td>AllPub</td>\n",
       "      <td>Inside</td>\n",
       "      <td>...</td>\n",
       "      <td>144</td>\n",
       "      <td>0</td>\n",
       "      <td>NaN</td>\n",
       "      <td>NaN</td>\n",
       "      <td>NaN</td>\n",
       "      <td>0</td>\n",
       "      <td>1</td>\n",
       "      <td>2010</td>\n",
       "      <td>WD</td>\n",
       "      <td>Normal</td>\n",
       "    </tr>\n",
       "  </tbody>\n",
       "</table>\n",
       "<p>5 rows × 79 columns</p>\n",
       "</div>"
      ],
      "text/plain": [
       "      MSSubClass MSZoning  LotFrontage  LotArea Street Alley LotShape  \\\n",
       "Id                                                                      \n",
       "1461          20       RH         80.0    11622   Pave   NaN      Reg   \n",
       "1462          20       RL         81.0    14267   Pave   NaN      IR1   \n",
       "1463          60       RL         74.0    13830   Pave   NaN      IR1   \n",
       "1464          60       RL         78.0     9978   Pave   NaN      IR1   \n",
       "1465         120       RL         43.0     5005   Pave   NaN      IR1   \n",
       "\n",
       "     LandContour Utilities LotConfig  ... ScreenPorch PoolArea PoolQC  Fence  \\\n",
       "Id                                    ...                                      \n",
       "1461         Lvl    AllPub    Inside  ...         120        0    NaN  MnPrv   \n",
       "1462         Lvl    AllPub    Corner  ...           0        0    NaN    NaN   \n",
       "1463         Lvl    AllPub    Inside  ...           0        0    NaN  MnPrv   \n",
       "1464         Lvl    AllPub    Inside  ...           0        0    NaN    NaN   \n",
       "1465         HLS    AllPub    Inside  ...         144        0    NaN    NaN   \n",
       "\n",
       "     MiscFeature MiscVal  MoSold  YrSold  SaleType  SaleCondition  \n",
       "Id                                                                 \n",
       "1461         NaN       0       6    2010        WD         Normal  \n",
       "1462        Gar2   12500       6    2010        WD         Normal  \n",
       "1463         NaN       0       3    2010        WD         Normal  \n",
       "1464         NaN       0       6    2010        WD         Normal  \n",
       "1465         NaN       0       1    2010        WD         Normal  \n",
       "\n",
       "[5 rows x 79 columns]"
      ]
     },
     "execution_count": 175,
     "metadata": {},
     "output_type": "execute_result"
    }
   ],
   "source": [
    "test_df.head()"
   ]
  },
  {
   "cell_type": "code",
   "execution_count": 176,
   "id": "59a46bd5-7587-4a25-be50-58d77de3e654",
   "metadata": {},
   "outputs": [
    {
     "name": "stdout",
     "output_type": "stream",
     "text": [
      "Train dataframe shape: (1460, 80)\n",
      "Test dataframe shape: (1459, 79)\n"
     ]
    }
   ],
   "source": [
    "print(f\"Train dataframe shape: {train_df.shape}\")\n",
    "print(f\"Test dataframe shape: {test_df.shape}\")"
   ]
  },
  {
   "cell_type": "markdown",
   "id": "017ca8f7-83c1-4c4a-ba87-97194cfa6b4e",
   "metadata": {},
   "source": [
    "# 1. Analising and Transforming data"
   ]
  },
  {
   "cell_type": "markdown",
   "id": "7638a688-395d-4df2-a8cf-3031ac942231",
   "metadata": {},
   "source": [
    "Most certainly, the price of a house depends on its square footage. Let's plot <b>'GrLivArea'</b> against 'SalePrice'."
   ]
  },
  {
   "cell_type": "code",
   "execution_count": 177,
   "id": "30300101-72cd-4bff-a940-841896c6079b",
   "metadata": {},
   "outputs": [
    {
     "data": {
      "image/png": "[encoded data removed]",
      "text/plain": [
       "<Figure size 400x400 with 1 Axes>"
      ]
     },
     "metadata": {},
     "output_type": "display_data"
    }
   ],
   "source": [
    "def plot_features(df, feature_x, feature_y):\n",
    "    plt.figure(figsize=(4,4))\n",
    "    plt.scatter(x=df[feature_x], y=df[feature_y])\n",
    "    plt.xlabel(feature_x)\n",
    "    plt.ylabel(feature_y)\n",
    "    plt.show()\n",
    "    \n",
    "plot_features(train_df, 'GrLivArea', 'SalePrice')"
   ]
  },
  {
   "cell_type": "markdown",
   "id": "dcac7496-d889-4d1c-bf79-e566c5d08a02",
   "metadata": {},
   "source": [
    "There are a couple of examples for which the 'GrLivArea' is extremely large, but the 'SalePrice' is very small. We should delete these examples."
   ]
  },
  {
   "cell_type": "code",
   "execution_count": 178,
   "id": "f945de5d-5028-40ee-bf93-bb3ee8d8b8b5",
   "metadata": {},
   "outputs": [
    {
     "data": {
      "text/html": [
       "<div>\n",
       "<style scoped>\n",
       "    .dataframe tbody tr th:only-of-type {\n",
       "        vertical-align: middle;\n",
       "    }\n",
       "\n",
       "    .dataframe tbody tr th {\n",
       "        vertical-align: top;\n",
       "    }\n",
       "\n",
       "    .dataframe thead th {\n",
       "        text-align: right;\n",
       "    }\n",
       "</style>\n",
       "<table border=\"1\" class=\"dataframe\">\n",
       "  <thead>\n",
       "    <tr style=\"text-align: right;\">\n",
       "      <th></th>\n",
       "      <th>MSSubClass</th>\n",
       "      <th>MSZoning</th>\n",
       "      <th>LotFrontage</th>\n",
       "      <th>LotArea</th>\n",
       "      <th>Street</th>\n",
       "      <th>Alley</th>\n",
       "      <th>LotShape</th>\n",
       "      <th>LandContour</th>\n",
       "      <th>Utilities</th>\n",
       "      <th>LotConfig</th>\n",
       "      <th>...</th>\n",
       "      <th>PoolArea</th>\n",
       "      <th>PoolQC</th>\n",
       "      <th>Fence</th>\n",
       "      <th>MiscFeature</th>\n",
       "      <th>MiscVal</th>\n",
       "      <th>MoSold</th>\n",
       "      <th>YrSold</th>\n",
       "      <th>SaleType</th>\n",
       "      <th>SaleCondition</th>\n",
       "      <th>SalePrice</th>\n",
       "    </tr>\n",
       "    <tr>\n",
       "      <th>Id</th>\n",
       "      <th></th>\n",
       "      <th></th>\n",
       "      <th></th>\n",
       "      <th></th>\n",
       "      <th></th>\n",
       "      <th></th>\n",
       "      <th></th>\n",
       "      <th></th>\n",
       "      <th></th>\n",
       "      <th></th>\n",
       "      <th></th>\n",
       "      <th></th>\n",
       "      <th></th>\n",
       "      <th></th>\n",
       "      <th></th>\n",
       "      <th></th>\n",
       "      <th></th>\n",
       "      <th></th>\n",
       "      <th></th>\n",
       "      <th></th>\n",
       "      <th></th>\n",
       "    </tr>\n",
       "  </thead>\n",
       "  <tbody>\n",
       "    <tr>\n",
       "      <th>524</th>\n",
       "      <td>60</td>\n",
       "      <td>RL</td>\n",
       "      <td>130.0</td>\n",
       "      <td>40094</td>\n",
       "      <td>Pave</td>\n",
       "      <td>NaN</td>\n",
       "      <td>IR1</td>\n",
       "      <td>Bnk</td>\n",
       "      <td>AllPub</td>\n",
       "      <td>Inside</td>\n",
       "      <td>...</td>\n",
       "      <td>0</td>\n",
       "      <td>NaN</td>\n",
       "      <td>NaN</td>\n",
       "      <td>NaN</td>\n",
       "      <td>0</td>\n",
       "      <td>10</td>\n",
       "      <td>2007</td>\n",
       "      <td>New</td>\n",
       "      <td>Partial</td>\n",
       "      <td>184750</td>\n",
       "    </tr>\n",
       "    <tr>\n",
       "      <th>1299</th>\n",
       "      <td>60</td>\n",
       "      <td>RL</td>\n",
       "      <td>313.0</td>\n",
       "      <td>63887</td>\n",
       "      <td>Pave</td>\n",
       "      <td>NaN</td>\n",
       "      <td>IR3</td>\n",
       "      <td>Bnk</td>\n",
       "      <td>AllPub</td>\n",
       "      <td>Corner</td>\n",
       "      <td>...</td>\n",
       "      <td>480</td>\n",
       "      <td>Gd</td>\n",
       "      <td>NaN</td>\n",
       "      <td>NaN</td>\n",
       "      <td>0</td>\n",
       "      <td>1</td>\n",
       "      <td>2008</td>\n",
       "      <td>New</td>\n",
       "      <td>Partial</td>\n",
       "      <td>160000</td>\n",
       "    </tr>\n",
       "  </tbody>\n",
       "</table>\n",
       "<p>2 rows × 80 columns</p>\n",
       "</div>"
      ],
      "text/plain": [
       "      MSSubClass MSZoning  LotFrontage  LotArea Street Alley LotShape  \\\n",
       "Id                                                                      \n",
       "524           60       RL        130.0    40094   Pave   NaN      IR1   \n",
       "1299          60       RL        313.0    63887   Pave   NaN      IR3   \n",
       "\n",
       "     LandContour Utilities LotConfig  ... PoolArea PoolQC Fence MiscFeature  \\\n",
       "Id                                    ...                                     \n",
       "524          Bnk    AllPub    Inside  ...        0    NaN   NaN         NaN   \n",
       "1299         Bnk    AllPub    Corner  ...      480     Gd   NaN         NaN   \n",
       "\n",
       "     MiscVal MoSold  YrSold  SaleType  SaleCondition  SalePrice  \n",
       "Id                                                               \n",
       "524        0     10    2007       New        Partial     184750  \n",
       "1299       0      1    2008       New        Partial     160000  \n",
       "\n",
       "[2 rows x 80 columns]"
      ]
     },
     "execution_count": 178,
     "metadata": {},
     "output_type": "execute_result"
    }
   ],
   "source": [
    "delete_rows = train_df[(train_df['GrLivArea'] > 4000) & (train_df['SalePrice'] < 200000)]\n",
    "delete_rows"
   ]
  },
  {
   "cell_type": "code",
   "execution_count": 179,
   "id": "912f0aa2-9c92-4bc9-b1d8-a45f82e1aac9",
   "metadata": {},
   "outputs": [
    {
     "name": "stdout",
     "output_type": "stream",
     "text": [
      "Train dataframe shape after dropping: (1458, 80)\n"
     ]
    },
    {
     "data": {
      "image/png": "[encoded data removed]",
      "text/plain": [
       "<Figure size 400x400 with 1 Axes>"
      ]
     },
     "metadata": {},
     "output_type": "display_data"
    }
   ],
   "source": [
    "train_df.drop(index=delete_rows.index, inplace=True)\n",
    "print(f'Train dataframe shape after dropping: {train_df.shape}')\n",
    "\n",
    "plot_features(train_df, 'GrLivArea', 'SalePrice')"
   ]
  },
  {
   "cell_type": "markdown",
   "id": "283e5aa9-ff0b-4ceb-ba98-c5c30b103f8e",
   "metadata": {},
   "source": [
    "## 1.1 Plot the distribution of 'SalePrice'"
   ]
  },
  {
   "cell_type": "markdown",
   "id": "cbb1f11f-ef15-4e03-b989-454cddad3b02",
   "metadata": {},
   "source": [
    "### 1.1.1 Normal Distribution"
   ]
  },
  {
   "cell_type": "markdown",
   "id": "8d414eb6-4489-4e0c-b5f9-4f0842ee4044",
   "metadata": {},
   "source": [
    "Compare the distribution of our data to normal distribution.\\\n",
    "Ensuring that the target variable is approximately normally distributed can lead to more accurate predictions."
   ]
  },
  {
   "cell_type": "code",
   "execution_count": 180,
   "id": "4c433fcb-82b8-4bc4-ab48-b4281681bd8a",
   "metadata": {},
   "outputs": [
    {
     "data": {
      "image/png": "[encoded data removed]",
      "text/plain": [
       "<Figure size 640x480 with 1 Axes>"
      ]
     },
     "metadata": {},
     "output_type": "display_data"
    },
    {
     "data": {
      "text/plain": [
       "(180932.91906721535, 79467.78892987774)"
      ]
     },
     "execution_count": 180,
     "metadata": {},
     "output_type": "execute_result"
    }
   ],
   "source": [
    "def plot_normal_dist(df, feature):\n",
    "    \n",
    "    (mean, std) = norm.fit(df[feature])\n",
    "    \n",
    "    sns.distplot(df[feature] , fit=norm)\n",
    "    \n",
    "    plt.legend([f'$\\mu=$ {mean} $\\sigma=$ {std}'], loc='best')\n",
    "    plt.ylabel('Frequency')\n",
    "    plt.title('Distribution')\n",
    "    plt.show()\n",
    "    return mean, std\n",
    "\n",
    "plot_normal_dist(train_df, 'SalePrice')"
   ]
  },
  {
   "cell_type": "markdown",
   "id": "f8931be6-ca87-4b0b-9cb6-650c26821c6a",
   "metadata": {},
   "source": [
    "#### 1.1.1.1 Quantile-Quantile Graph"
   ]
  },
  {
   "cell_type": "markdown",
   "id": "59e920f0-cff2-4b02-8258-3c5bbbb3a156",
   "metadata": {},
   "source": [
    "To see if the data is normally distributed.\\\n",
    "Plots normal distribution quantiles against target feature quantiles.  If the data is normally distributed, most of the points will be on the line."
   ]
  },
  {
   "cell_type": "code",
   "execution_count": 181,
   "id": "db008b81-e896-4858-affd-934e3056e381",
   "metadata": {},
   "outputs": [
    {
     "data": {
      "image/png": "[encoded data removed]",
      "text/plain": [
       "<Figure size 640x480 with 1 Axes>"
      ]
     },
     "metadata": {},
     "output_type": "display_data"
    }
   ],
   "source": [
    "def plot_qq(df, feature):\n",
    "    res = stats.probplot(df[feature], plot=plt)\n",
    "    plt.show()\n",
    "    return res\n",
    "    \n",
    "res = plot_qq(train_df, 'SalePrice')"
   ]
  },
  {
   "cell_type": "markdown",
   "id": "298b223b-a11f-4c63-8bd6-b73c96b63fba",
   "metadata": {},
   "source": [
    "## 1.2 Transforming 'SalePrice'"
   ]
  },
  {
   "cell_type": "markdown",
   "id": "0ecb6421-ebad-4feb-ba2c-c8b3d70b03e4",
   "metadata": {},
   "source": [
    "The target variable is <b>right skewed</b> - the long tail is on the right side.\\\n",
    "Let's transform the target variable to make it closer to the normal distribution. One common way to do this is <b>Log Transformation </b>"
   ]
  },
  {
   "cell_type": "code",
   "execution_count": 182,
   "id": "d26548f4-fd52-4d62-b9a6-35e32d30b09f",
   "metadata": {},
   "outputs": [
    {
     "data": {
      "image/png": "[encoded data removed]",
      "text/plain": [
       "<Figure size 640x480 with 1 Axes>"
      ]
     },
     "metadata": {},
     "output_type": "display_data"
    },
    {
     "data": {
      "image/png": "[encoded data removed]",
      "text/plain": [
       "<Figure size 640x480 with 1 Axes>"
      ]
     },
     "metadata": {},
     "output_type": "display_data"
    }
   ],
   "source": [
    "# apply log(1+x) to all elements of the target column\n",
    "train_df[\"SalePrice\"] = np.log1p(train_df[\"SalePrice\"])\n",
    "\n",
    "plot_normal_dist(train_df, 'SalePrice')\n",
    "res = plot_qq(train_df, 'SalePrice')"
   ]
  },
  {
   "cell_type": "markdown",
   "id": "d7a278c2-3c86-459d-bc50-6d5d58fdc14f",
   "metadata": {},
   "source": [
    "We have successfully corrected the skew. The data seems to be more normally distributed."
   ]
  },
  {
   "cell_type": "markdown",
   "id": "bd8358b9-6f16-480c-873c-16a9dc966918",
   "metadata": {},
   "source": [
    "# 2. Feature Engineering"
   ]
  },
  {
   "cell_type": "markdown",
   "id": "a02c518a-3550-4ed5-9072-5c7d8dc15735",
   "metadata": {},
   "source": [
    "Put all data in one dataframe"
   ]
  },
  {
   "cell_type": "code",
   "execution_count": 183,
   "id": "00ab6739-7041-456b-b227-4e42612d2497",
   "metadata": {},
   "outputs": [
    {
     "name": "stdout",
     "output_type": "stream",
     "text": [
      "All data shape: (2917, 79)\n"
     ]
    },
    {
     "data": {
      "text/html": [
       "<div>\n",
       "<style scoped>\n",
       "    .dataframe tbody tr th:only-of-type {\n",
       "        vertical-align: middle;\n",
       "    }\n",
       "\n",
       "    .dataframe tbody tr th {\n",
       "        vertical-align: top;\n",
       "    }\n",
       "\n",
       "    .dataframe thead th {\n",
       "        text-align: right;\n",
       "    }\n",
       "</style>\n",
       "<table border=\"1\" class=\"dataframe\">\n",
       "  <thead>\n",
       "    <tr style=\"text-align: right;\">\n",
       "      <th></th>\n",
       "      <th>MSSubClass</th>\n",
       "      <th>MSZoning</th>\n",
       "      <th>LotFrontage</th>\n",
       "      <th>LotArea</th>\n",
       "      <th>Street</th>\n",
       "      <th>Alley</th>\n",
       "      <th>LotShape</th>\n",
       "      <th>LandContour</th>\n",
       "      <th>Utilities</th>\n",
       "      <th>LotConfig</th>\n",
       "      <th>...</th>\n",
       "      <th>ScreenPorch</th>\n",
       "      <th>PoolArea</th>\n",
       "      <th>PoolQC</th>\n",
       "      <th>Fence</th>\n",
       "      <th>MiscFeature</th>\n",
       "      <th>MiscVal</th>\n",
       "      <th>MoSold</th>\n",
       "      <th>YrSold</th>\n",
       "      <th>SaleType</th>\n",
       "      <th>SaleCondition</th>\n",
       "    </tr>\n",
       "  </thead>\n",
       "  <tbody>\n",
       "    <tr>\n",
       "      <th>0</th>\n",
       "      <td>60</td>\n",
       "      <td>RL</td>\n",
       "      <td>65.0</td>\n",
       "      <td>8450</td>\n",
       "      <td>Pave</td>\n",
       "      <td>NaN</td>\n",
       "      <td>Reg</td>\n",
       "      <td>Lvl</td>\n",
       "      <td>AllPub</td>\n",
       "      <td>Inside</td>\n",
       "      <td>...</td>\n",
       "      <td>0</td>\n",
       "      <td>0</td>\n",
       "      <td>NaN</td>\n",
       "      <td>NaN</td>\n",
       "      <td>NaN</td>\n",
       "      <td>0</td>\n",
       "      <td>2</td>\n",
       "      <td>2008</td>\n",
       "      <td>WD</td>\n",
       "      <td>Normal</td>\n",
       "    </tr>\n",
       "    <tr>\n",
       "      <th>1</th>\n",
       "      <td>20</td>\n",
       "      <td>RL</td>\n",
       "      <td>80.0</td>\n",
       "      <td>9600</td>\n",
       "      <td>Pave</td>\n",
       "      <td>NaN</td>\n",
       "      <td>Reg</td>\n",
       "      <td>Lvl</td>\n",
       "      <td>AllPub</td>\n",
       "      <td>FR2</td>\n",
       "      <td>...</td>\n",
       "      <td>0</td>\n",
       "      <td>0</td>\n",
       "      <td>NaN</td>\n",
       "      <td>NaN</td>\n",
       "      <td>NaN</td>\n",
       "      <td>0</td>\n",
       "      <td>5</td>\n",
       "      <td>2007</td>\n",
       "      <td>WD</td>\n",
       "      <td>Normal</td>\n",
       "    </tr>\n",
       "    <tr>\n",
       "      <th>2</th>\n",
       "      <td>60</td>\n",
       "      <td>RL</td>\n",
       "      <td>68.0</td>\n",
       "      <td>11250</td>\n",
       "      <td>Pave</td>\n",
       "      <td>NaN</td>\n",
       "      <td>IR1</td>\n",
       "      <td>Lvl</td>\n",
       "      <td>AllPub</td>\n",
       "      <td>Inside</td>\n",
       "      <td>...</td>\n",
       "      <td>0</td>\n",
       "      <td>0</td>\n",
       "      <td>NaN</td>\n",
       "      <td>NaN</td>\n",
       "      <td>NaN</td>\n",
       "      <td>0</td>\n",
       "      <td>9</td>\n",
       "      <td>2008</td>\n",
       "      <td>WD</td>\n",
       "      <td>Normal</td>\n",
       "    </tr>\n",
       "    <tr>\n",
       "      <th>3</th>\n",
       "      <td>70</td>\n",
       "      <td>RL</td>\n",
       "      <td>60.0</td>\n",
       "      <td>9550</td>\n",
       "      <td>Pave</td>\n",
       "      <td>NaN</td>\n",
       "      <td>IR1</td>\n",
       "      <td>Lvl</td>\n",
       "      <td>AllPub</td>\n",
       "      <td>Corner</td>\n",
       "      <td>...</td>\n",
       "      <td>0</td>\n",
       "      <td>0</td>\n",
       "      <td>NaN</td>\n",
       "      <td>NaN</td>\n",
       "      <td>NaN</td>\n",
       "      <td>0</td>\n",
       "      <td>2</td>\n",
       "      <td>2006</td>\n",
       "      <td>WD</td>\n",
       "      <td>Abnorml</td>\n",
       "    </tr>\n",
       "    <tr>\n",
       "      <th>4</th>\n",
       "      <td>60</td>\n",
       "      <td>RL</td>\n",
       "      <td>84.0</td>\n",
       "      <td>14260</td>\n",
       "      <td>Pave</td>\n",
       "      <td>NaN</td>\n",
       "      <td>IR1</td>\n",
       "      <td>Lvl</td>\n",
       "      <td>AllPub</td>\n",
       "      <td>FR2</td>\n",
       "      <td>...</td>\n",
       "      <td>0</td>\n",
       "      <td>0</td>\n",
       "      <td>NaN</td>\n",
       "      <td>NaN</td>\n",
       "      <td>NaN</td>\n",
       "      <td>0</td>\n",
       "      <td>12</td>\n",
       "      <td>2008</td>\n",
       "      <td>WD</td>\n",
       "      <td>Normal</td>\n",
       "    </tr>\n",
       "  </tbody>\n",
       "</table>\n",
       "<p>5 rows × 79 columns</p>\n",
       "</div>"
      ],
      "text/plain": [
       "   MSSubClass MSZoning  LotFrontage  LotArea Street Alley LotShape  \\\n",
       "0          60       RL         65.0     8450   Pave   NaN      Reg   \n",
       "1          20       RL         80.0     9600   Pave   NaN      Reg   \n",
       "2          60       RL         68.0    11250   Pave   NaN      IR1   \n",
       "3          70       RL         60.0     9550   Pave   NaN      IR1   \n",
       "4          60       RL         84.0    14260   Pave   NaN      IR1   \n",
       "\n",
       "  LandContour Utilities LotConfig  ... ScreenPorch PoolArea PoolQC Fence  \\\n",
       "0         Lvl    AllPub    Inside  ...           0        0    NaN   NaN   \n",
       "1         Lvl    AllPub       FR2  ...           0        0    NaN   NaN   \n",
       "2         Lvl    AllPub    Inside  ...           0        0    NaN   NaN   \n",
       "3         Lvl    AllPub    Corner  ...           0        0    NaN   NaN   \n",
       "4         Lvl    AllPub       FR2  ...           0        0    NaN   NaN   \n",
       "\n",
       "  MiscFeature MiscVal  MoSold  YrSold  SaleType  SaleCondition  \n",
       "0         NaN       0       2    2008        WD         Normal  \n",
       "1         NaN       0       5    2007        WD         Normal  \n",
       "2         NaN       0       9    2008        WD         Normal  \n",
       "3         NaN       0       2    2006        WD        Abnorml  \n",
       "4         NaN       0      12    2008        WD         Normal  \n",
       "\n",
       "[5 rows x 79 columns]"
      ]
     },
     "execution_count": 183,
     "metadata": {},
     "output_type": "execute_result"
    }
   ],
   "source": [
    "all_df = pd.concat([train_df.drop(columns=['SalePrice']), test_df]).reset_index(drop=True)\n",
    "print(f'All data shape: {all_df.shape}')\n",
    "all_df.head()"
   ]
  },
  {
   "cell_type": "markdown",
   "id": "a3705bb3-781f-446e-a94d-7af630627eb8",
   "metadata": {},
   "source": [
    "## 2.1 Missing data "
   ]
  },
  {
   "cell_type": "code",
   "execution_count": 184,
   "id": "d87b9d6b-480b-4650-8627-03fab1a74cf0",
   "metadata": {},
   "outputs": [
    {
     "name": "stdout",
     "output_type": "stream",
     "text": [
      "Total number of missing features: 34\n",
      "A list of missing features: Index(['PoolQC', 'MiscFeature', 'Alley', 'Fence', 'MasVnrType', 'FireplaceQu',\n",
      "       'LotFrontage', 'GarageFinish', 'GarageQual', 'GarageCond',\n",
      "       'GarageYrBlt', 'GarageType', 'BsmtExposure', 'BsmtCond', 'BsmtQual',\n",
      "       'BsmtFinType2', 'BsmtFinType1', 'MasVnrArea', 'MSZoning',\n",
      "       'BsmtFullBath', 'BsmtHalfBath', 'Functional', 'Utilities', 'GarageArea',\n",
      "       'GarageCars', 'Electrical', 'KitchenQual', 'TotalBsmtSF', 'BsmtUnfSF',\n",
      "       'BsmtFinSF2', 'BsmtFinSF1', 'Exterior2nd', 'Exterior1st', 'SaleType'],\n",
      "      dtype='object')\n"
     ]
    },
    {
     "data": {
      "text/html": [
       "<div>\n",
       "<style scoped>\n",
       "    .dataframe tbody tr th:only-of-type {\n",
       "        vertical-align: middle;\n",
       "    }\n",
       "\n",
       "    .dataframe tbody tr th {\n",
       "        vertical-align: top;\n",
       "    }\n",
       "\n",
       "    .dataframe thead th {\n",
       "        text-align: right;\n",
       "    }\n",
       "</style>\n",
       "<table border=\"1\" class=\"dataframe\">\n",
       "  <thead>\n",
       "    <tr style=\"text-align: right;\">\n",
       "      <th></th>\n",
       "      <th>Ratio</th>\n",
       "    </tr>\n",
       "  </thead>\n",
       "  <tbody>\n",
       "    <tr>\n",
       "      <th>PoolQC</th>\n",
       "      <td>0.996915</td>\n",
       "    </tr>\n",
       "    <tr>\n",
       "      <th>MiscFeature</th>\n",
       "      <td>0.964004</td>\n",
       "    </tr>\n",
       "    <tr>\n",
       "      <th>Alley</th>\n",
       "      <td>0.932122</td>\n",
       "    </tr>\n",
       "    <tr>\n",
       "      <th>Fence</th>\n",
       "      <td>0.804251</td>\n",
       "    </tr>\n",
       "    <tr>\n",
       "      <th>MasVnrType</th>\n",
       "      <td>0.605417</td>\n",
       "    </tr>\n",
       "    <tr>\n",
       "      <th>FireplaceQu</th>\n",
       "      <td>0.486802</td>\n",
       "    </tr>\n",
       "    <tr>\n",
       "      <th>LotFrontage</th>\n",
       "      <td>0.166610</td>\n",
       "    </tr>\n",
       "    <tr>\n",
       "      <th>GarageFinish</th>\n",
       "      <td>0.054508</td>\n",
       "    </tr>\n",
       "    <tr>\n",
       "      <th>GarageQual</th>\n",
       "      <td>0.054508</td>\n",
       "    </tr>\n",
       "    <tr>\n",
       "      <th>GarageCond</th>\n",
       "      <td>0.054508</td>\n",
       "    </tr>\n",
       "    <tr>\n",
       "      <th>GarageYrBlt</th>\n",
       "      <td>0.054508</td>\n",
       "    </tr>\n",
       "    <tr>\n",
       "      <th>GarageType</th>\n",
       "      <td>0.053822</td>\n",
       "    </tr>\n",
       "    <tr>\n",
       "      <th>BsmtExposure</th>\n",
       "      <td>0.028111</td>\n",
       "    </tr>\n",
       "    <tr>\n",
       "      <th>BsmtCond</th>\n",
       "      <td>0.028111</td>\n",
       "    </tr>\n",
       "    <tr>\n",
       "      <th>BsmtQual</th>\n",
       "      <td>0.027768</td>\n",
       "    </tr>\n",
       "  </tbody>\n",
       "</table>\n",
       "</div>"
      ],
      "text/plain": [
       "                 Ratio\n",
       "PoolQC        0.996915\n",
       "MiscFeature   0.964004\n",
       "Alley         0.932122\n",
       "Fence         0.804251\n",
       "MasVnrType    0.605417\n",
       "FireplaceQu   0.486802\n",
       "LotFrontage   0.166610\n",
       "GarageFinish  0.054508\n",
       "GarageQual    0.054508\n",
       "GarageCond    0.054508\n",
       "GarageYrBlt   0.054508\n",
       "GarageType    0.053822\n",
       "BsmtExposure  0.028111\n",
       "BsmtCond      0.028111\n",
       "BsmtQual      0.027768"
      ]
     },
     "execution_count": 184,
     "metadata": {},
     "output_type": "execute_result"
    }
   ],
   "source": [
    "# put missing features in a dataframe\n",
    "missing_df = pd.DataFrame({'Ratio': all_df.isna().sum() / len(all_df)})\n",
    "missing_df.drop(missing_df[missing_df['Ratio']==0].index, inplace=True)\n",
    "missing_df.sort_values(by='Ratio', ascending=False, inplace=True)\n",
    "\n",
    "print(f'Total number of missing features: {len(missing_df)}')\n",
    "print(f'A list of missing features: {missing_df.index}')\n",
    "missing_df.head(15)"
   ]
  },
  {
   "cell_type": "code",
   "execution_count": 185,
   "id": "09474546-8063-4eea-a427-e47845722ee9",
   "metadata": {},
   "outputs": [
    {
     "data": {
      "image/png": "[encoded data removed]",
      "text/plain": [
       "<Figure size 800x500 with 1 Axes>"
      ]
     },
     "metadata": {},
     "output_type": "display_data"
    }
   ],
   "source": [
    "# plot missing data on bar plot\n",
    "plt.figure(figsize=(8, 5))\n",
    "sns.barplot(x=missing_df['Ratio'].index, y=missing_df['Ratio'])\n",
    "plt.xlabel('Features')\n",
    "plt.xticks(rotation='vertical')\n",
    "plt.ylabel('Ratio of missing values')\n",
    "plt.title('Ratio of missing data by feature')\n",
    "plt.show()"
   ]
  },
  {
   "cell_type": "markdown",
   "id": "0a7df7c3-8446-48af-b90b-1a67c69369a2",
   "metadata": {},
   "source": [
    "## 2.2 Correlation"
   ]
  },
  {
   "cell_type": "code",
   "execution_count": 186,
   "id": "290aaab4-dc5d-4a2a-bf80-16b2c446b752",
   "metadata": {},
   "outputs": [
    {
     "data": {
      "image/png": "[encoded data removed]",
      "text/plain": [
       "<Figure size 800x800 with 2 Axes>"
      ]
     },
     "metadata": {},
     "output_type": "display_data"
    }
   ],
   "source": [
    "# plot correlation\n",
    "plt.figure(figsize=(8,8))\n",
    "corr = train_df.corr(numeric_only=True)\n",
    "sns.heatmap(corr, square=True)\n",
    "plt.show()"
   ]
  },
  {
   "cell_type": "markdown",
   "id": "5abf2e04-45ce-4fab-961a-b41d941ebd5a",
   "metadata": {},
   "source": [
    "## 2.3 Imputing missing values"
   ]
  },
  {
   "cell_type": "markdown",
   "id": "7220abb9-71a5-49fb-aabe-48cf6354f3e8",
   "metadata": {},
   "source": [
    "### 2.3.1 PoolQC"
   ]
  },
  {
   "cell_type": "markdown",
   "id": "54401e70-39a4-4673-963f-876391fe8567",
   "metadata": {},
   "source": [
    "In 'data-description.txt' it is stated that missing value of 'PoolQC' means that there is no pool. "
   ]
  },
  {
   "cell_type": "code",
   "execution_count": 187,
   "id": "1c601d8a-d4fe-4fcc-bd1d-886e212e78ca",
   "metadata": {},
   "outputs": [],
   "source": [
    "all_df['PoolQC'].fillna('None', inplace=True)"
   ]
  },
  {
   "cell_type": "markdown",
   "id": "fed656ca-c68f-40b2-a1a4-a2c782dad578",
   "metadata": {},
   "source": [
    "### 2.3.2 MiscFeature"
   ]
  },
  {
   "cell_type": "markdown",
   "id": "4b28cf5e-a4f1-4542-b846-9f92481712dc",
   "metadata": {},
   "source": [
    "Data description states that missing value means that there is no miscellaneous feature."
   ]
  },
  {
   "cell_type": "code",
   "execution_count": 188,
   "id": "14e8f95e-ca6f-436f-97ab-dcd9531fec9d",
   "metadata": {},
   "outputs": [],
   "source": [
    "all_df['MiscFeature'].fillna('None', inplace=True)"
   ]
  },
  {
   "cell_type": "markdown",
   "id": "fb96e143-59dd-471c-a102-a5d352388349",
   "metadata": {},
   "source": [
    "### 2.3.3 Alley"
   ]
  },
  {
   "cell_type": "markdown",
   "id": "5955dc4c-5aec-4b7a-b927-888cb345e46e",
   "metadata": {},
   "source": [
    "Data description states that missing value means that there is no alley access."
   ]
  },
  {
   "cell_type": "code",
   "execution_count": 189,
   "id": "2687da52-8662-4cf3-9d1e-0610b4b1144a",
   "metadata": {},
   "outputs": [],
   "source": [
    "all_df['Alley'].fillna('None', inplace=True)"
   ]
  },
  {
   "cell_type": "markdown",
   "id": "92b5ab9c-ab2a-4123-b932-e9c9badef230",
   "metadata": {},
   "source": [
    "### 2.3.4 Fence"
   ]
  },
  {
   "cell_type": "markdown",
   "id": "b91da8e6-964f-4dcc-bbe3-6598e4c96f65",
   "metadata": {},
   "source": [
    "Data description states that missing value means that there is no fence."
   ]
  },
  {
   "cell_type": "code",
   "execution_count": 190,
   "id": "80e6b118-c3fa-4f72-94fa-f75f7f53febf",
   "metadata": {},
   "outputs": [],
   "source": [
    "all_df['Fence'].fillna('None', inplace=True)"
   ]
  },
  {
   "cell_type": "markdown",
   "id": "302244ef-e07b-469d-a0cb-fcc098e6937d",
   "metadata": {},
   "source": [
    "### 2.3.5 MasVnrType"
   ]
  },
  {
   "cell_type": "markdown",
   "id": "ac0158fa-3a9d-47af-a97a-38a5dc13264e",
   "metadata": {},
   "source": [
    "Data description states that missing value means that there is no masonry veneer type."
   ]
  },
  {
   "cell_type": "code",
   "execution_count": 191,
   "id": "b4aa5fbe-c234-4bf2-8915-e5f148a837bc",
   "metadata": {},
   "outputs": [],
   "source": [
    "all_df['MasVnrType'].fillna('None', inplace=True)"
   ]
  },
  {
   "cell_type": "markdown",
   "id": "61eebc92-1582-4067-aa57-3c67eda9c97e",
   "metadata": {},
   "source": [
    "### 2.3.6 FireplaceQu"
   ]
  },
  {
   "cell_type": "markdown",
   "id": "60a991ae-4914-4e23-9357-579887b2e55e",
   "metadata": {},
   "source": [
    "Data description states that missing value means that there is no fireplace."
   ]
  },
  {
   "cell_type": "code",
   "execution_count": 192,
   "id": "90b27bd5-0072-48df-890c-7bebea51c24e",
   "metadata": {},
   "outputs": [],
   "source": [
    "all_df['FireplaceQu'].fillna('None', inplace=True)"
   ]
  },
  {
   "cell_type": "markdown",
   "id": "76cfaafa-f5c0-468c-ab39-77d9d79122eb",
   "metadata": {},
   "source": [
    "### 2.3.7 LotFrontage"
   ]
  },
  {
   "cell_type": "markdown",
   "id": "a1b5e4ed-2a4a-4003-985e-b8f40838d32e",
   "metadata": {},
   "source": [
    "This feature describes the number of linear feet of street connected to property. This is most likely similar for all houses in a neighborhood. We can fill the missing values with the median of the LotFrontage of the neighborhood. "
   ]
  },
  {
   "cell_type": "code",
   "execution_count": 193,
   "id": "16bbf55d-907d-4457-81e3-a3858e37bda9",
   "metadata": {},
   "outputs": [],
   "source": [
    "all_df['LotFrontage'] = all_df.groupby(\"Neighborhood\")[\"LotFrontage\"].transform(lambda x: x.fillna(x.median()))"
   ]
  },
  {
   "cell_type": "markdown",
   "id": "9e8f54c1-97c3-4e2a-8863-e15f9d74dd82",
   "metadata": {},
   "source": [
    "### 2.3.8 GarageFinish, GarageQual, GarageCond, GarageType"
   ]
  },
  {
   "cell_type": "markdown",
   "id": "5958ae7f-0434-44e7-a5ff-d36aa98e0875",
   "metadata": {},
   "source": [
    "Missing value means no garage."
   ]
  },
  {
   "cell_type": "code",
   "execution_count": 194,
   "id": "b07ebad0-6021-4652-b041-dd5f320fbc9d",
   "metadata": {},
   "outputs": [],
   "source": [
    "for col in ('GarageFinish', 'GarageQual', 'GarageCond', 'GarageType'):\n",
    "    all_df[col].fillna('None', inplace=True)"
   ]
  },
  {
   "cell_type": "markdown",
   "id": "e33c076a-5f90-47c0-aa04-4e99adf5cf36",
   "metadata": {},
   "source": [
    "### 2.3.9 GarageYrBlt, GarageArea, GarageCars"
   ]
  },
  {
   "cell_type": "markdown",
   "id": "813f5dcb-8dc7-4c7a-a1c8-dc490180cdf7",
   "metadata": {},
   "source": [
    "Missing value means no garage. These features are numerical so we will replace the missing values with 0."
   ]
  },
  {
   "cell_type": "code",
   "execution_count": 195,
   "id": "8ab2a3dd-c031-4805-8071-e54e2515ee34",
   "metadata": {},
   "outputs": [],
   "source": [
    "for col in ('GarageYrBlt', 'GarageArea', 'GarageCars'):\n",
    "    all_df[col].fillna(0, inplace=True)"
   ]
  },
  {
   "cell_type": "markdown",
   "id": "36dcd5df-8a69-4076-a52d-7ddf75cc5343",
   "metadata": {},
   "source": [
    "### 2.3.10 BsmtExposure, BsmtCond, BsmtQual, BsmtFinType2, BsmtFinType1"
   ]
  },
  {
   "cell_type": "markdown",
   "id": "7a8ab4e0-7312-4cfd-a8f0-71cc6593fd4c",
   "metadata": {},
   "source": [
    "Missing value means that there is no basement."
   ]
  },
  {
   "cell_type": "code",
   "execution_count": 196,
   "id": "0ccf4193-2fe0-4b15-adcc-12adba7a9bbc",
   "metadata": {},
   "outputs": [],
   "source": [
    "for col in ('BsmtExposure', 'BsmtCond', 'BsmtQual', 'BsmtFinType2', 'BsmtFinType1'):\n",
    "    all_df[col].fillna('None', inplace=True)"
   ]
  },
  {
   "cell_type": "markdown",
   "id": "ab973401-d6f2-4de8-8c07-6cfb471e961b",
   "metadata": {},
   "source": [
    "### 2.3.11  BsmtFullBath, BsmtHalfBath, TotalBsmtSF, BsmtUnfSF, BsmtFinSF2, BsmtFinSF1"
   ]
  },
  {
   "cell_type": "markdown",
   "id": "0783a52f-65c1-411e-b586-068df8f05090",
   "metadata": {},
   "source": [
    "Missing value means that there is no basement, or that there is no unfinished area in basement, etc. We should replace the missing values with zeros. "
   ]
  },
  {
   "cell_type": "code",
   "execution_count": 197,
   "id": "58bf9251-a89c-4687-9934-7ffa1a8e01b4",
   "metadata": {},
   "outputs": [],
   "source": [
    "for col in ('BsmtFullBath', 'BsmtHalfBath', 'TotalBsmtSF', 'BsmtUnfSF', 'BsmtFinSF2', 'BsmtFinSF1'):\n",
    "    all_df[col].fillna(0, inplace=True)"
   ]
  },
  {
   "cell_type": "markdown",
   "id": "7c888229-7646-4bc5-bd32-770ab48ae653",
   "metadata": {},
   "source": [
    "### 2.3.12 MasVnrArea"
   ]
  },
  {
   "cell_type": "markdown",
   "id": "141ff1e3-36d0-4719-b4a6-e3bc5b959a97",
   "metadata": {},
   "source": [
    "Missing value means that there is zero square feet of masonry veneer area. Replace the missing values with 0."
   ]
  },
  {
   "cell_type": "code",
   "execution_count": 198,
   "id": "c92d30f6-d7cc-4146-86bc-16016dc34f9a",
   "metadata": {},
   "outputs": [],
   "source": [
    "all_df[\"MasVnrArea\"].fillna(0, inplace=True)"
   ]
  },
  {
   "cell_type": "markdown",
   "id": "0d1b451d-f536-40ec-a193-885234118bc4",
   "metadata": {},
   "source": [
    "### 2.3.13 MSZoning"
   ]
  },
  {
   "cell_type": "code",
   "execution_count": 199,
   "id": "e5e4cdb1-ff9c-4f74-945b-d76b2dd59376",
   "metadata": {},
   "outputs": [
    {
     "data": {
      "text/plain": [
       "MSZoning\n",
       "RL         2263\n",
       "RM          460\n",
       "FV          139\n",
       "RH           26\n",
       "C (all)      25\n",
       "Name: count, dtype: int64"
      ]
     },
     "execution_count": 199,
     "metadata": {},
     "output_type": "execute_result"
    }
   ],
   "source": [
    "all_df['MSZoning'].value_counts()"
   ]
  },
  {
   "cell_type": "markdown",
   "id": "760c338c-6739-4b0e-8bb1-f7afa529ce6f",
   "metadata": {},
   "source": [
    "There is no explicit definition of the meaning of the missing values. We will replace these values with the most common value. "
   ]
  },
  {
   "cell_type": "code",
   "execution_count": 200,
   "id": "dd19d98c-d3c2-4515-a854-66a3a86f9bf2",
   "metadata": {},
   "outputs": [],
   "source": [
    "all_df['MSZoning'].fillna('RL', inplace=True)"
   ]
  },
  {
   "cell_type": "markdown",
   "id": "55b4ebac-d49e-4c7e-8cbd-47d4152772b8",
   "metadata": {},
   "source": [
    "### 2.3.14 Functional"
   ]
  },
  {
   "cell_type": "markdown",
   "id": "af7cfc2f-bdad-4381-93d7-ca98b3cf4d40",
   "metadata": {},
   "source": [
    "Data description states that the missing values of 'Functional' mean 'Typ'."
   ]
  },
  {
   "cell_type": "code",
   "execution_count": 201,
   "id": "cab9da2c-ed59-433a-985c-5b522ddb1da5",
   "metadata": {},
   "outputs": [],
   "source": [
    "all_df['Functional'].fillna('Typ', inplace=True)"
   ]
  },
  {
   "cell_type": "markdown",
   "id": "e317942f-feae-43ee-a220-4519a26cc956",
   "metadata": {},
   "source": [
    "### 2.3.15 Utilities"
   ]
  },
  {
   "cell_type": "code",
   "execution_count": 202,
   "id": "1af02817-8f03-4668-89d6-51edcb27c87e",
   "metadata": {},
   "outputs": [
    {
     "data": {
      "text/plain": [
       "Utilities\n",
       "AllPub    2914\n",
       "NoSeWa       1\n",
       "Name: count, dtype: int64"
      ]
     },
     "execution_count": 202,
     "metadata": {},
     "output_type": "execute_result"
    }
   ],
   "source": [
    "all_df['Utilities'].value_counts()"
   ]
  },
  {
   "cell_type": "markdown",
   "id": "ba094a2f-e812-48f6-afb5-8ca6f9b57594",
   "metadata": {},
   "source": [
    "All utilities are 'AllPub' except one. We will drop of this feature."
   ]
  },
  {
   "cell_type": "code",
   "execution_count": 203,
   "id": "8a06b2b1-42d5-4db1-89a8-2262fbb8828b",
   "metadata": {},
   "outputs": [],
   "source": [
    "all_df.drop(columns=['Utilities'], inplace=True)"
   ]
  },
  {
   "cell_type": "markdown",
   "id": "11546c5e-9c64-4827-89db-f3674cf44971",
   "metadata": {},
   "source": [
    "### 2.3.16 Electrical"
   ]
  },
  {
   "cell_type": "code",
   "execution_count": 204,
   "id": "daaad384-385c-42c3-8517-84c9143506ec",
   "metadata": {},
   "outputs": [
    {
     "data": {
      "text/plain": [
       "1"
      ]
     },
     "execution_count": 204,
     "metadata": {},
     "output_type": "execute_result"
    }
   ],
   "source": [
    "all_df['Electrical'].isna().sum()"
   ]
  },
  {
   "cell_type": "markdown",
   "id": "e2665f37-ab1d-4256-8000-8496cf7c9f6c",
   "metadata": {},
   "source": [
    "Seems like the rest of the features with missing values have only one missing value. We will replace them with the means, unless it is explicitly defined in the data description file."
   ]
  },
  {
   "cell_type": "code",
   "execution_count": 205,
   "id": "bd02f8f7-cdc8-4dad-8e28-de6d0817b422",
   "metadata": {},
   "outputs": [
    {
     "data": {
      "text/plain": [
       "Electrical\n",
       "SBrkr    2669\n",
       "FuseA     188\n",
       "FuseF      50\n",
       "FuseP       8\n",
       "Mix         1\n",
       "Name: count, dtype: int64"
      ]
     },
     "execution_count": 205,
     "metadata": {},
     "output_type": "execute_result"
    }
   ],
   "source": [
    "all_df.Electrical.value_counts()"
   ]
  },
  {
   "cell_type": "code",
   "execution_count": 206,
   "id": "d5aba080-4230-4753-9516-362c64b2b7e7",
   "metadata": {},
   "outputs": [],
   "source": [
    "all_df['Electrical'].fillna('SBrkr', inplace=True)"
   ]
  },
  {
   "cell_type": "markdown",
   "id": "c6ba9a20-2442-452c-8171-ce48fba4177a",
   "metadata": {},
   "source": [
    "### 2.3.17 KitchenQual"
   ]
  },
  {
   "cell_type": "code",
   "execution_count": 207,
   "id": "4e6ca73e-9fd3-4da2-b536-8ed7ff63ccc8",
   "metadata": {},
   "outputs": [
    {
     "data": {
      "text/plain": [
       "KitchenQual\n",
       "TA    1492\n",
       "Gd    1151\n",
       "Ex     203\n",
       "Fa      70\n",
       "Name: count, dtype: int64"
      ]
     },
     "execution_count": 207,
     "metadata": {},
     "output_type": "execute_result"
    }
   ],
   "source": [
    "all_df.KitchenQual.value_counts()"
   ]
  },
  {
   "cell_type": "code",
   "execution_count": 208,
   "id": "894b6080-f20d-4b61-be18-0984a47f3c53",
   "metadata": {},
   "outputs": [],
   "source": [
    "all_df['KitchenQual'].fillna('TA', inplace=True)"
   ]
  },
  {
   "cell_type": "markdown",
   "id": "08d12c62-e67a-4b53-9e32-4be8da0cb676",
   "metadata": {},
   "source": [
    "### 2.3.18 Exterior1st and Exterior2nd"
   ]
  },
  {
   "cell_type": "code",
   "execution_count": 209,
   "id": "6d7ee353-7518-4e3b-8f66-3c0044c37321",
   "metadata": {},
   "outputs": [
    {
     "data": {
      "text/plain": [
       "Exterior1st\n",
       "VinylSd    1025\n",
       "MetalSd     450\n",
       "HdBoard     442\n",
       "Wd Sdng     411\n",
       "Plywood     221\n",
       "CemntBd     125\n",
       "BrkFace      87\n",
       "WdShing      56\n",
       "AsbShng      44\n",
       "Stucco       42\n",
       "BrkComm       6\n",
       "AsphShn       2\n",
       "Stone         2\n",
       "CBlock        2\n",
       "ImStucc       1\n",
       "Name: count, dtype: int64"
      ]
     },
     "execution_count": 209,
     "metadata": {},
     "output_type": "execute_result"
    }
   ],
   "source": [
    "all_df.Exterior1st.value_counts()"
   ]
  },
  {
   "cell_type": "code",
   "execution_count": 210,
   "id": "37c561a6-5d42-4939-a0b6-7536281ae128",
   "metadata": {},
   "outputs": [
    {
     "data": {
      "text/plain": [
       "Exterior2nd\n",
       "VinylSd    1014\n",
       "MetalSd     447\n",
       "HdBoard     406\n",
       "Wd Sdng     391\n",
       "Plywood     270\n",
       "CmentBd     125\n",
       "Wd Shng      81\n",
       "BrkFace      47\n",
       "Stucco       46\n",
       "AsbShng      38\n",
       "Brk Cmn      22\n",
       "ImStucc      15\n",
       "Stone         6\n",
       "AsphShn       4\n",
       "CBlock        3\n",
       "Other         1\n",
       "Name: count, dtype: int64"
      ]
     },
     "execution_count": 210,
     "metadata": {},
     "output_type": "execute_result"
    }
   ],
   "source": [
    "all_df.Exterior2nd.value_counts()"
   ]
  },
  {
   "cell_type": "code",
   "execution_count": 211,
   "id": "91f3da04-4c1e-4b41-9cc3-10023b796752",
   "metadata": {},
   "outputs": [],
   "source": [
    "all_df['Exterior1st'].fillna('VinylSd', inplace=True)\n",
    "all_df['Exterior2nd'].fillna('VinylSd', inplace=True)"
   ]
  },
  {
   "cell_type": "markdown",
   "id": "e8d91750-5537-4939-a7ea-b2b438e3eac1",
   "metadata": {},
   "source": [
    "### 2.3.19 SaleType"
   ]
  },
  {
   "cell_type": "code",
   "execution_count": 212,
   "id": "e0805266-192b-4034-92fd-9b44d358e2ef",
   "metadata": {},
   "outputs": [
    {
     "data": {
      "text/plain": [
       "SaleType\n",
       "WD       2525\n",
       "New       237\n",
       "COD        87\n",
       "ConLD      26\n",
       "CWD        12\n",
       "ConLI       9\n",
       "ConLw       8\n",
       "Oth         7\n",
       "Con         5\n",
       "Name: count, dtype: int64"
      ]
     },
     "execution_count": 212,
     "metadata": {},
     "output_type": "execute_result"
    }
   ],
   "source": [
    "all_df.SaleType.value_counts()"
   ]
  },
  {
   "cell_type": "code",
   "execution_count": 213,
   "id": "1ade181f-c056-4aa3-976f-d891948ddc56",
   "metadata": {},
   "outputs": [],
   "source": [
    "all_df.SaleType.fillna('WD', inplace=True)"
   ]
  },
  {
   "cell_type": "markdown",
   "id": "2205e19e-cf31-4510-bb58-b0296cb2f31f",
   "metadata": {},
   "source": [
    "Let's check if we have any more missing values."
   ]
  },
  {
   "cell_type": "code",
   "execution_count": 214,
   "id": "f890cb2d-af52-4b4e-b087-3e0f8724ddb7",
   "metadata": {},
   "outputs": [
    {
     "name": "stdout",
     "output_type": "stream",
     "text": [
      "Number of missing values after imputing: 0\n"
     ]
    }
   ],
   "source": [
    "print(f'Number of missing values after imputing: {all_df.isna().sum().sum()}')"
   ]
  },
  {
   "cell_type": "markdown",
   "id": "fca1e43b-dbf4-4eb6-acb1-d4002e53a688",
   "metadata": {},
   "source": [
    "## 2.4 Transforming Data"
   ]
  },
  {
   "cell_type": "markdown",
   "id": "4dc0fa5e-a990-44e1-8460-5e268ccab8c1",
   "metadata": {},
   "source": [
    "### 2.4.1 Transform features that appear to be numerical, but are actually categorical"
   ]
  },
  {
   "cell_type": "code",
   "execution_count": 215,
   "id": "c1e6385f-ece0-4045-b626-4b1e9318b4fa",
   "metadata": {},
   "outputs": [],
   "source": [
    "# MSSubClass\n",
    "all_df['MSSubClass'] = all_df['MSSubClass'].astype(str)\n",
    "\n",
    "# YrSold and MoSold can be treated as categorical\n",
    "all_df['YrSold'] = all_df['YrSold'].astype(str)\n",
    "all_df['MoSold'] = all_df['MoSold'].astype(str)"
   ]
  },
  {
   "cell_type": "markdown",
   "id": "26009613-830d-4703-87af-730b3fe50c78",
   "metadata": {},
   "source": [
    "### 2.4.2 Label encodidng"
   ]
  },
  {
   "cell_type": "code",
   "execution_count": 216,
   "id": "4b26cd2f-7263-47f5-915d-d9c4267f0a9a",
   "metadata": {},
   "outputs": [
    {
     "name": "stdout",
     "output_type": "stream",
     "text": [
      "Shape: (2917, 78)\n"
     ]
    }
   ],
   "source": [
    "from sklearn.preprocessing import LabelEncoder\n",
    "\n",
    "cols = ['FireplaceQu', 'BsmtQual', 'BsmtCond', 'GarageQual', 'GarageCond', \n",
    "       'ExterQual', 'ExterCond','HeatingQC', 'PoolQC', 'KitchenQual', 'BsmtFinType1', \n",
    "       'BsmtFinType2', 'Functional', 'Fence', 'BsmtExposure', 'GarageFinish', 'LandSlope',\n",
    "       'LotShape', 'PavedDrive', 'Street', 'Alley', 'CentralAir', 'MSSubClass', #'Neighborhood', 'MSZoning',\n",
    "        'YrSold', 'MoSold']\n",
    "\n",
    "# process columns, apply LabelEncoder to categorical features\n",
    "for col in cols:\n",
    "    label_encoder = LabelEncoder() \n",
    "    label_encoder.fit(list(all_df[col].values)) \n",
    "    all_df[col] = label_encoder.transform(list(all_df[col].values))\n",
    "\n",
    "# shape        \n",
    "print(f'Shape: {all_df.shape}')"
   ]
  },
  {
   "cell_type": "code",
   "execution_count": 217,
   "id": "4dc734d7-20eb-4994-8cb0-36b49ea7b311",
   "metadata": {},
   "outputs": [
    {
     "data": {
      "text/html": [
       "<div>\n",
       "<style scoped>\n",
       "    .dataframe tbody tr th:only-of-type {\n",
       "        vertical-align: middle;\n",
       "    }\n",
       "\n",
       "    .dataframe tbody tr th {\n",
       "        vertical-align: top;\n",
       "    }\n",
       "\n",
       "    .dataframe thead th {\n",
       "        text-align: right;\n",
       "    }\n",
       "</style>\n",
       "<table border=\"1\" class=\"dataframe\">\n",
       "  <thead>\n",
       "    <tr style=\"text-align: right;\">\n",
       "      <th></th>\n",
       "      <th>MSSubClass</th>\n",
       "      <th>MSZoning</th>\n",
       "      <th>LotFrontage</th>\n",
       "      <th>LotArea</th>\n",
       "      <th>Street</th>\n",
       "      <th>Alley</th>\n",
       "      <th>LotShape</th>\n",
       "      <th>LandContour</th>\n",
       "      <th>LotConfig</th>\n",
       "      <th>LandSlope</th>\n",
       "      <th>...</th>\n",
       "      <th>ScreenPorch</th>\n",
       "      <th>PoolArea</th>\n",
       "      <th>PoolQC</th>\n",
       "      <th>Fence</th>\n",
       "      <th>MiscFeature</th>\n",
       "      <th>MiscVal</th>\n",
       "      <th>MoSold</th>\n",
       "      <th>YrSold</th>\n",
       "      <th>SaleType</th>\n",
       "      <th>SaleCondition</th>\n",
       "    </tr>\n",
       "  </thead>\n",
       "  <tbody>\n",
       "    <tr>\n",
       "      <th>0</th>\n",
       "      <td>10</td>\n",
       "      <td>RL</td>\n",
       "      <td>65.0</td>\n",
       "      <td>8450</td>\n",
       "      <td>1</td>\n",
       "      <td>1</td>\n",
       "      <td>3</td>\n",
       "      <td>Lvl</td>\n",
       "      <td>Inside</td>\n",
       "      <td>0</td>\n",
       "      <td>...</td>\n",
       "      <td>0</td>\n",
       "      <td>0</td>\n",
       "      <td>3</td>\n",
       "      <td>4</td>\n",
       "      <td>None</td>\n",
       "      <td>0</td>\n",
       "      <td>4</td>\n",
       "      <td>2</td>\n",
       "      <td>WD</td>\n",
       "      <td>Normal</td>\n",
       "    </tr>\n",
       "    <tr>\n",
       "      <th>1</th>\n",
       "      <td>5</td>\n",
       "      <td>RL</td>\n",
       "      <td>80.0</td>\n",
       "      <td>9600</td>\n",
       "      <td>1</td>\n",
       "      <td>1</td>\n",
       "      <td>3</td>\n",
       "      <td>Lvl</td>\n",
       "      <td>FR2</td>\n",
       "      <td>0</td>\n",
       "      <td>...</td>\n",
       "      <td>0</td>\n",
       "      <td>0</td>\n",
       "      <td>3</td>\n",
       "      <td>4</td>\n",
       "      <td>None</td>\n",
       "      <td>0</td>\n",
       "      <td>7</td>\n",
       "      <td>1</td>\n",
       "      <td>WD</td>\n",
       "      <td>Normal</td>\n",
       "    </tr>\n",
       "    <tr>\n",
       "      <th>2</th>\n",
       "      <td>10</td>\n",
       "      <td>RL</td>\n",
       "      <td>68.0</td>\n",
       "      <td>11250</td>\n",
       "      <td>1</td>\n",
       "      <td>1</td>\n",
       "      <td>0</td>\n",
       "      <td>Lvl</td>\n",
       "      <td>Inside</td>\n",
       "      <td>0</td>\n",
       "      <td>...</td>\n",
       "      <td>0</td>\n",
       "      <td>0</td>\n",
       "      <td>3</td>\n",
       "      <td>4</td>\n",
       "      <td>None</td>\n",
       "      <td>0</td>\n",
       "      <td>11</td>\n",
       "      <td>2</td>\n",
       "      <td>WD</td>\n",
       "      <td>Normal</td>\n",
       "    </tr>\n",
       "    <tr>\n",
       "      <th>3</th>\n",
       "      <td>11</td>\n",
       "      <td>RL</td>\n",
       "      <td>60.0</td>\n",
       "      <td>9550</td>\n",
       "      <td>1</td>\n",
       "      <td>1</td>\n",
       "      <td>0</td>\n",
       "      <td>Lvl</td>\n",
       "      <td>Corner</td>\n",
       "      <td>0</td>\n",
       "      <td>...</td>\n",
       "      <td>0</td>\n",
       "      <td>0</td>\n",
       "      <td>3</td>\n",
       "      <td>4</td>\n",
       "      <td>None</td>\n",
       "      <td>0</td>\n",
       "      <td>4</td>\n",
       "      <td>0</td>\n",
       "      <td>WD</td>\n",
       "      <td>Abnorml</td>\n",
       "    </tr>\n",
       "    <tr>\n",
       "      <th>4</th>\n",
       "      <td>10</td>\n",
       "      <td>RL</td>\n",
       "      <td>84.0</td>\n",
       "      <td>14260</td>\n",
       "      <td>1</td>\n",
       "      <td>1</td>\n",
       "      <td>0</td>\n",
       "      <td>Lvl</td>\n",
       "      <td>FR2</td>\n",
       "      <td>0</td>\n",
       "      <td>...</td>\n",
       "      <td>0</td>\n",
       "      <td>0</td>\n",
       "      <td>3</td>\n",
       "      <td>4</td>\n",
       "      <td>None</td>\n",
       "      <td>0</td>\n",
       "      <td>3</td>\n",
       "      <td>2</td>\n",
       "      <td>WD</td>\n",
       "      <td>Normal</td>\n",
       "    </tr>\n",
       "  </tbody>\n",
       "</table>\n",
       "<p>5 rows × 78 columns</p>\n",
       "</div>"
      ],
      "text/plain": [
       "   MSSubClass MSZoning  LotFrontage  LotArea  Street  Alley  LotShape  \\\n",
       "0          10       RL         65.0     8450       1      1         3   \n",
       "1           5       RL         80.0     9600       1      1         3   \n",
       "2          10       RL         68.0    11250       1      1         0   \n",
       "3          11       RL         60.0     9550       1      1         0   \n",
       "4          10       RL         84.0    14260       1      1         0   \n",
       "\n",
       "  LandContour LotConfig  LandSlope  ... ScreenPorch PoolArea PoolQC Fence  \\\n",
       "0         Lvl    Inside          0  ...           0        0      3     4   \n",
       "1         Lvl       FR2          0  ...           0        0      3     4   \n",
       "2         Lvl    Inside          0  ...           0        0      3     4   \n",
       "3         Lvl    Corner          0  ...           0        0      3     4   \n",
       "4         Lvl       FR2          0  ...           0        0      3     4   \n",
       "\n",
       "  MiscFeature  MiscVal  MoSold  YrSold  SaleType SaleCondition  \n",
       "0        None        0       4       2        WD        Normal  \n",
       "1        None        0       7       1        WD        Normal  \n",
       "2        None        0      11       2        WD        Normal  \n",
       "3        None        0       4       0        WD       Abnorml  \n",
       "4        None        0       3       2        WD        Normal  \n",
       "\n",
       "[5 rows x 78 columns]"
      ]
     },
     "execution_count": 217,
     "metadata": {},
     "output_type": "execute_result"
    }
   ],
   "source": [
    "all_df.head()"
   ]
  },
  {
   "cell_type": "markdown",
   "id": "8aabcb6f-4b67-4beb-b9a8-dc0426ba17e0",
   "metadata": {},
   "source": [
    "## 2.4.3 Adding 'TotalSF' feature"
   ]
  },
  {
   "cell_type": "markdown",
   "id": "6112da0d-d839-4601-bedc-50d7c9964efe",
   "metadata": {},
   "source": [
    "For this problem, a potentually usefull feature is square footage of an entire house. We will calculate this as a sum of 'TotalBsmtSF', '1stFlrSF' and '2ndFlrSF'."
   ]
  },
  {
   "cell_type": "code",
   "execution_count": 218,
   "id": "52e5ac2d-9d2e-449f-8dc0-ad5b8c30e68c",
   "metadata": {},
   "outputs": [],
   "source": [
    "all_df['TotalSF'] = all_df['TotalBsmtSF'] + all_df['1stFlrSF'] + all_df['2ndFlrSF']"
   ]
  },
  {
   "cell_type": "code",
   "execution_count": 219,
   "id": "62cfa637-3ef5-416c-bb26-19f77101180b",
   "metadata": {},
   "outputs": [],
   "source": [
    "# mszoning_median = train_df.groupby('MSZoning')['SalePrice'].median()\n",
    "# neighborhood_median = train_df.groupby('Neighborhood')['SalePrice'].median()\n",
    "# nbhd = pd.concat([train_df['Neighborhood'], test_df['Neighborhood']])\n",
    "# mszon = pd.concat([train_df['MSZoning'], test_df['MSZoning']])\n",
    "# all_df['MSZoningMdnPrice'] = mszon.map(neighborhood_median)\n",
    "# all_df['NeighborhoodMdnPrice'] = nbhd.map(neighborhood_median)\n",
    "\n",
    "# all_df['MSZoningMdnPrice'].fillna(mszoning_median.median(), inplace=True)\n",
    "# all_df['NeighborhoodMdnPrice'].fillna(neighborhood_median.median(), inplace=True)"
   ]
  },
  {
   "cell_type": "markdown",
   "id": "9dd17281-9b96-4254-97bb-71deadb00087",
   "metadata": {},
   "source": [
    "### 2.4.4 Fixing skewed features"
   ]
  },
  {
   "cell_type": "code",
   "execution_count": 220,
   "id": "aa1ae8c1-48d1-48d7-97d6-63508bd28e7f",
   "metadata": {},
   "outputs": [
    {
     "data": {
      "text/html": [
       "<div>\n",
       "<style scoped>\n",
       "    .dataframe tbody tr th:only-of-type {\n",
       "        vertical-align: middle;\n",
       "    }\n",
       "\n",
       "    .dataframe tbody tr th {\n",
       "        vertical-align: top;\n",
       "    }\n",
       "\n",
       "    .dataframe thead th {\n",
       "        text-align: right;\n",
       "    }\n",
       "</style>\n",
       "<table border=\"1\" class=\"dataframe\">\n",
       "  <thead>\n",
       "    <tr style=\"text-align: right;\">\n",
       "      <th></th>\n",
       "      <th>Skew</th>\n",
       "    </tr>\n",
       "  </thead>\n",
       "  <tbody>\n",
       "    <tr>\n",
       "      <th>MiscVal</th>\n",
       "      <td>21.939672</td>\n",
       "    </tr>\n",
       "    <tr>\n",
       "      <th>PoolArea</th>\n",
       "      <td>17.688664</td>\n",
       "    </tr>\n",
       "    <tr>\n",
       "      <th>LotArea</th>\n",
       "      <td>13.109495</td>\n",
       "    </tr>\n",
       "    <tr>\n",
       "      <th>LowQualFinSF</th>\n",
       "      <td>12.084539</td>\n",
       "    </tr>\n",
       "    <tr>\n",
       "      <th>3SsnPorch</th>\n",
       "      <td>11.372080</td>\n",
       "    </tr>\n",
       "    <tr>\n",
       "      <th>LandSlope</th>\n",
       "      <td>4.973254</td>\n",
       "    </tr>\n",
       "    <tr>\n",
       "      <th>KitchenAbvGr</th>\n",
       "      <td>4.300550</td>\n",
       "    </tr>\n",
       "    <tr>\n",
       "      <th>BsmtFinSF2</th>\n",
       "      <td>4.144503</td>\n",
       "    </tr>\n",
       "    <tr>\n",
       "      <th>EnclosedPorch</th>\n",
       "      <td>4.002344</td>\n",
       "    </tr>\n",
       "    <tr>\n",
       "      <th>ScreenPorch</th>\n",
       "      <td>3.945101</td>\n",
       "    </tr>\n",
       "    <tr>\n",
       "      <th>BsmtHalfBath</th>\n",
       "      <td>3.929996</td>\n",
       "    </tr>\n",
       "    <tr>\n",
       "      <th>MasVnrArea</th>\n",
       "      <td>2.621719</td>\n",
       "    </tr>\n",
       "    <tr>\n",
       "      <th>OpenPorchSF</th>\n",
       "      <td>2.529358</td>\n",
       "    </tr>\n",
       "    <tr>\n",
       "      <th>WoodDeckSF</th>\n",
       "      <td>1.844792</td>\n",
       "    </tr>\n",
       "    <tr>\n",
       "      <th>1stFlrSF</th>\n",
       "      <td>1.257286</td>\n",
       "    </tr>\n",
       "  </tbody>\n",
       "</table>\n",
       "</div>"
      ],
      "text/plain": [
       "                    Skew\n",
       "MiscVal        21.939672\n",
       "PoolArea       17.688664\n",
       "LotArea        13.109495\n",
       "LowQualFinSF   12.084539\n",
       "3SsnPorch      11.372080\n",
       "LandSlope       4.973254\n",
       "KitchenAbvGr    4.300550\n",
       "BsmtFinSF2      4.144503\n",
       "EnclosedPorch   4.002344\n",
       "ScreenPorch     3.945101\n",
       "BsmtHalfBath    3.929996\n",
       "MasVnrArea      2.621719\n",
       "OpenPorchSF     2.529358\n",
       "WoodDeckSF      1.844792\n",
       "1stFlrSF        1.257286"
      ]
     },
     "execution_count": 220,
     "metadata": {},
     "output_type": "execute_result"
    }
   ],
   "source": [
    "numeric_cols = all_df.select_dtypes(exclude=['object']).apply(lambda x: skew(x)).sort_values(ascending=False)\n",
    "skewness = pd.DataFrame({'Skew' :numeric_cols})\n",
    "skewness.head(15)"
   ]
  },
  {
   "cell_type": "markdown",
   "id": "47d4920a-9517-4b6a-a994-92ab75d1c25b",
   "metadata": {},
   "source": [
    "### 2.4.5 Box-Cox Transformation"
   ]
  },
  {
   "cell_type": "markdown",
   "id": "7cc46f9f-356e-474e-8bfe-eeaf6f4759bf",
   "metadata": {},
   "source": [
    "We can apply the <b>Box-Cox</b> transformation to transform skewed features to a normal distribution and make patterns in the data more recognisable.\n",
    "We will use <b>boxcox1p</b> from scipy.\\\n",
    "If $\\lambda$ = 0 it will be the same as: $\\log(y+1)$ \\\n",
    "Otherwise it's: $\\frac{(y+1)^\\lambda-1}{\\lambda}$"
   ]
  },
  {
   "cell_type": "code",
   "execution_count": 221,
   "id": "14f20237-f17c-4739-a6c9-05bd667e499b",
   "metadata": {},
   "outputs": [],
   "source": [
    "from scipy.special import boxcox1p\n",
    "\n",
    "skewness = skewness[abs(skewness) > 0.75] # apply only for data that has large skewness (>0.75)\n",
    "skewed_cols = skewness.index\n",
    "lmbda = 0.15\n",
    "\n",
    "for col in skewed_cols:\n",
    "    all_df[col] = boxcox1p(all_df[col], lmbda)"
   ]
  },
  {
   "cell_type": "markdown",
   "id": "e31a96ef-fc6f-4e30-86f5-dcc2bdfbf56a",
   "metadata": {},
   "source": [
    "### 2.4.6 One-hot encoding"
   ]
  },
  {
   "cell_type": "code",
   "execution_count": 222,
   "id": "48fcd63b-8bba-4477-bde4-714a120fcd97",
   "metadata": {},
   "outputs": [
    {
     "name": "stdout",
     "output_type": "stream",
     "text": [
      "Shape after one-hot encoding: (2917, 220)\n"
     ]
    }
   ],
   "source": [
    "all_df = pd.get_dummies(all_df)\n",
    "print(f'Shape after one-hot encoding: {all_df.shape}')"
   ]
  },
  {
   "cell_type": "markdown",
   "id": "88158b36-89e9-4df5-811b-b588feabcf43",
   "metadata": {},
   "source": [
    "Split the data to train and test datasets"
   ]
  },
  {
   "cell_type": "code",
   "execution_count": 223,
   "id": "680d25dc-3e28-4752-9071-c8d5123ed648",
   "metadata": {},
   "outputs": [],
   "source": [
    "# all_df = all_df.drop(columns=['Neighborhood','MSZoning'])"
   ]
  },
  {
   "cell_type": "markdown",
   "id": "679569e4-dde4-4f8b-bb65-c63c5e4ce4f2",
   "metadata": {},
   "source": [
    "# 3. Building a model"
   ]
  },
  {
   "cell_type": "markdown",
   "id": "967cb971-50c0-48c8-876b-72863e858e61",
   "metadata": {},
   "source": [
    "## 3.1 Define an evaluation"
   ]
  },
  {
   "cell_type": "code",
   "execution_count": 224,
   "id": "b6562048-f483-4bd0-bcfe-f66000948672",
   "metadata": {},
   "outputs": [],
   "source": [
    "from sklearn.model_selection import KFold, cross_val_score\n",
    "\n",
    "k_folds = 5 # k = 5\n",
    "\n",
    "def cv_rmsle(model): \n",
    "    train = all_df[:len(train_df)]\n",
    "    test = all_df[len(train_df):]\n",
    "    X_train = train\n",
    "    y_train = train_df['SalePrice']\n",
    "    kf = KFold(k_folds, shuffle=True, random_state=42).get_n_splits(train.values)\n",
    "    score = cross_val_score(\n",
    "        model, train.values, y_train, cv=kf, scoring=\"neg_mean_squared_log_error\")\n",
    "    score = -1 * score.mean()\n",
    "    score = np.sqrt(score)\n",
    "    return score"
   ]
  },
  {
   "cell_type": "markdown",
   "id": "df50a02f-60fe-4b7e-b6ed-0b6bcbedf4e8",
   "metadata": {},
   "source": [
    "## 3.2 Base models"
   ]
  },
  {
   "cell_type": "markdown",
   "id": "a97244c6-c59b-4c9b-96eb-e6b87a084fad",
   "metadata": {},
   "source": [
    "Simple linear regression would not be the best choice because we have <b>a lot of features, some of which may not even be needed</b>, hence we will use regression models with <b>regularization</b>: \n",
    "- <b>Lasso</b> (uses L1 regularization)\n",
    "- <b>Ridge</b> (uses L2 regularization) \n",
    "- <b>ElasticNet</b> (combines L1 and L2 regularization)\\\n",
    "These models perform better on scaled data and for that we will use the <b>RobustScaler</b>."
   ]
  },
  {
   "cell_type": "markdown",
   "id": "b18b486a-5f36-4848-ad6e-7b12398f208b",
   "metadata": {},
   "source": [
    "### 3.2.1 Lasso Regression"
   ]
  },
  {
   "cell_type": "markdown",
   "id": "1665d116-e9f5-40e7-bb39-036391e8f2db",
   "metadata": {},
   "source": [
    "Lasso Regression uses <b>L1 regularization</b> - it penalises the model by: <b>$\\lambda * (|w_1| + |w_2| +..., + |w_n|)$</b> \\\n",
    "This model <b>can totally eliminate a feature</b> if it decides that the feature not needed. \\\n",
    "We need to <b>corectly choose the parameter $\\lambda$</b> (alpha in sklearn). We will test different values for the parameter."
   ]
  },
  {
   "cell_type": "code",
   "execution_count": 225,
   "id": "c137983b-f91c-4b8e-a216-c6af947856e3",
   "metadata": {},
   "outputs": [],
   "source": [
    "from sklearn.linear_model import Lasso\n",
    "from sklearn.preprocessing import RobustScaler\n",
    "\n",
    "# best_score = 1\n",
    "\n",
    "# for i in range (1, 100):\n",
    "#     i*=0.0001\n",
    "#     lasso = make_pipeline(RobustScaler(), Lasso(alpha = i, random_state=42))\n",
    "#     score = cv_rmsle(lasso)\n",
    "#     if score <= best_score:\n",
    "#         best_score = score\n",
    "#     else:\n",
    "#         print(f'The best score is achieved with lambda={i-0.0001}: {best_score}')\n",
    "#         break\n",
    "#     print(f'Score with lambda={i}: {score}')"
   ]
  },
  {
   "cell_type": "markdown",
   "id": "c19b9da9-9183-42c4-b85a-e058c560a5f6",
   "metadata": {},
   "source": [
    "Build the final Lasso model (with the best value for $\\lambda$):"
   ]
  },
  {
   "cell_type": "code",
   "execution_count": 226,
   "id": "21de07c5-e7df-41ab-b69a-8748d6462a32",
   "metadata": {},
   "outputs": [
    {
     "data": {
      "text/plain": [
       "0.008687039915065734"
      ]
     },
     "execution_count": 226,
     "metadata": {},
     "output_type": "execute_result"
    }
   ],
   "source": [
    "from sklearn.pipeline import make_pipeline\n",
    "\n",
    "lasso = make_pipeline(RobustScaler(), Lasso(alpha = 0.0005, random_state=42))\n",
    "cv_rmsle(lasso)"
   ]
  },
  {
   "cell_type": "markdown",
   "id": "a1eef664-65a8-4de8-acd3-681c4d366d14",
   "metadata": {},
   "source": [
    "### 3.2.2 Ridge Regression"
   ]
  },
  {
   "cell_type": "markdown",
   "id": "2f851ec6-77e1-4bf9-9022-4cffd086c419",
   "metadata": {},
   "source": [
    "Ridge Regression uses <b>L2 regularization</b> - it penalises the model by: <b>$\\lambda * (w_1^2 + w_2^2 +..., + w_n^2)$</b> \\\n",
    "This model <b>cannot totally eliminate a feature</b>\\\n",
    "We need to <b>corectly choose the parameter $\\lambda$</b> (alpha in sklearn). We will test different values for the parameter."
   ]
  },
  {
   "cell_type": "code",
   "execution_count": 227,
   "id": "ebd2ef29-4cab-46ae-b570-015f1c610102",
   "metadata": {},
   "outputs": [],
   "source": [
    "from sklearn.linear_model import Ridge\n",
    "\n",
    "# best_score = 1\n",
    "\n",
    "# for i in range (1, 100):\n",
    "#     ridge = make_pipeline(RobustScaler(), Ridge(alpha = i, random_state=42))\n",
    "#     score = cv_rmsle(ridge)\n",
    "#     if score <= best_score:\n",
    "#         best_score = score\n",
    "#     else:\n",
    "#         print(f'The best score is achieved with lambda={i-1}: {best_score}')\n",
    "#         break\n",
    "#     print(f'Score with lambda={i}: {score}')"
   ]
  },
  {
   "cell_type": "markdown",
   "id": "4ad29ba1-ecc4-40e8-92b5-21cc0a3f0d05",
   "metadata": {},
   "source": [
    "Build the final Ridge model (with the best value for $\\lambda$):"
   ]
  },
  {
   "cell_type": "code",
   "execution_count": 110,
   "id": "4932684a-02ac-4501-87d1-0f7138136550",
   "metadata": {},
   "outputs": [
    {
     "data": {
      "text/plain": [
       "0.00887843485120309"
      ]
     },
     "execution_count": 110,
     "metadata": {},
     "output_type": "execute_result"
    }
   ],
   "source": [
    "from sklearn.pipeline import make_pipeline\n",
    "\n",
    "ridge = make_pipeline(RobustScaler(), Ridge(alpha = 14, random_state=42))\n",
    "cv_rmsle(ridge)"
   ]
  },
  {
   "cell_type": "markdown",
   "id": "4d3b1508-0d03-480c-8420-eb3a24926a51",
   "metadata": {},
   "source": [
    "### 3.2.2 ElasticNet"
   ]
  },
  {
   "cell_type": "markdown",
   "id": "ae338f02-a4b0-4ff0-98cb-52543d7795a9",
   "metadata": {},
   "source": [
    "ElasticNet Regression uses <b>both L1 and L2 regularization</b> - it penalises the model by: <b>$\\lambda_1 * (|w_1| + |w_2| +..., + |w_n|) + \\lambda_2 * (w_1^2 + w_2^2 +..., + w_n^2)$</b> \\\n",
    "This model <b>does really well on correlated features</b>. \\\n",
    "We need to <b>corectly choose the l1_ratio</b> (ratio between l1 and l2 lambda). We will test different values for the parameter."
   ]
  },
  {
   "cell_type": "code",
   "execution_count": 111,
   "id": "4740bc59-afe6-4669-b75d-4e5c5c6dd72e",
   "metadata": {},
   "outputs": [],
   "source": [
    "from sklearn.linear_model import ElasticNet\n",
    "from sklearn.preprocessing import RobustScaler\n",
    "\n",
    "# best_score = 1\n",
    "# for i in range (85, 100):\n",
    "#     i/=100\n",
    "#     ENet = make_pipeline(RobustScaler(), ElasticNet(alpha=0.00055, l1_ratio=i, random_state=42))\n",
    "#     score = cv_rmsle(ENet)\n",
    "#     if score <= best_score:\n",
    "#         best_score = score\n",
    "#     else:\n",
    "#         print(f'The best score is achieved with ratio={i-0.01}: {best_score}')\n",
    "#         break\n",
    "#     print(f'Score with lambda={i}: {score}')"
   ]
  },
  {
   "cell_type": "markdown",
   "id": "93c001c7-76fd-4058-aeb1-6aee6fa9f609",
   "metadata": {},
   "source": [
    "Build the final ElasticNet model (with the best value for l1_ratio):"
   ]
  },
  {
   "cell_type": "code",
   "execution_count": 125,
   "id": "3ce9d556-511d-4054-9f5b-6acef196455d",
   "metadata": {},
   "outputs": [
    {
     "data": {
      "text/plain": [
       "0.008688431251101142"
      ]
     },
     "execution_count": 125,
     "metadata": {},
     "output_type": "execute_result"
    }
   ],
   "source": [
    "from sklearn.pipeline import make_pipeline\n",
    "\n",
    "ENet = make_pipeline(RobustScaler(), ElasticNet(alpha=0.00055, l1_ratio=0.89, random_state=42))\n",
    "cv_rmsle(ENet)"
   ]
  },
  {
   "cell_type": "markdown",
   "id": "bdcb6b33-1d93-4d73-bdc9-c1d9ecf4e013",
   "metadata": {},
   "source": [
    "### 3.2.3 Kernel Ridge"
   ]
  },
  {
   "cell_type": "markdown",
   "id": "c5a22ac1-c95d-46c6-82f3-993c5e19f549",
   "metadata": {},
   "source": [
    "Kernel Ridge combines <b>Ridge regression</b> (L2 regularization linear regression) with the <b>kernel trick</b>. \\\n",
    "Kernel trick defines how each point compares to each other datapoints after we apply the non-linear transformation. These equations are called <b>the kernel functions</b> (kernel in sklearn). We will use polynomial kernel function: $k(x,y) = (\\gamma x^Ty +c_0)^d$ (in sklearn alpha is L2 regularization's $\\lambda$, degree is $d$ and coef0 is $c_0$)"
   ]
  },
  {
   "cell_type": "code",
   "execution_count": 126,
   "id": "9b8822b6-d29e-4672-b652-f970d201ba0a",
   "metadata": {},
   "outputs": [],
   "source": [
    "from sklearn.kernel_ridge import KernelRidge\n",
    "\n",
    "# best_score = 1\n",
    "\n",
    "# for d in range(12,21):\n",
    "#     for c0 in range(15, 20):\n",
    "#         for a in range(1,5):\n",
    "#             a = (d/10) * a\n",
    "#             c0 += ((d-10)/10) * 5 \n",
    "#             KRR = KernelRidge(alpha=a/10, kernel='poly', degree=d/10, coef0=c0/10)\n",
    "#             score = cv_rmsle(KRR)\n",
    "#             print(f'Score with alpha={a/10}, degree={d/10} and coef0={c0/10} = {score}')\n",
    "#             if score < best_score:\n",
    "#                 best_score = score\n",
    "#                 print(f'New best score: {best_score}')\n",
    "            "
   ]
  },
  {
   "cell_type": "code",
   "execution_count": 127,
   "id": "f3f22d5f-1e07-4848-974f-f1f440bf8fa8",
   "metadata": {},
   "outputs": [
    {
     "data": {
      "text/plain": [
       "0.008895253745695463"
      ]
     },
     "execution_count": 127,
     "metadata": {},
     "output_type": "execute_result"
    }
   ],
   "source": [
    "KRR = KernelRidge(alpha=0.13999999999999999, kernel='polynomial', degree=1.4, coef0=1.7)\n",
    "cv_rmsle(KRR)"
   ]
  },
  {
   "cell_type": "markdown",
   "id": "5715db43-a995-4993-88d8-bd09d3ab117f",
   "metadata": {},
   "source": [
    "### 3.2.4 Gradient Boosted Regression"
   ]
  },
  {
   "cell_type": "markdown",
   "id": "a08e92e7-accc-4f71-b176-025dad40d470",
   "metadata": {},
   "source": [
    "Next we will try some <b>Gradient Boosted</b> alghoritms. Gradient Boosted alghoritms work really good when it comes to complex datasets."
   ]
  },
  {
   "cell_type": "markdown",
   "id": "9b424d7c-7821-41a0-b206-a7ef2cb9d97d",
   "metadata": {},
   "source": [
    "Firstly, we will try the basic Gradient Boosting Regressor. Using the <b>huber loss</b> makes it robust to outliers. Huber loss is a combination of mean squared error (MSE) and mean absolute error (MAE). It behaves like MSE for small errors and like MAE for large errors. We will loop through different values for n_estimators to find the best one."
   ]
  },
  {
   "cell_type": "code",
   "execution_count": 128,
   "id": "2add8301-c7fa-4516-89f3-e432f482f359",
   "metadata": {},
   "outputs": [],
   "source": [
    "from sklearn.ensemble import GradientBoostingRegressor\n",
    "\n",
    "# best_score=1\n",
    "\n",
    "# for n_est in range(1000, 2100, 100):\n",
    "\n",
    "#     print(f\"Currently training a tree with n_estimators={n_est}\")\n",
    "#     GBoost = GradientBoostingRegressor(n_estimators=n_est, learning_rate=0.05,\n",
    "#                            max_depth=2, max_features='sqrt',\n",
    "#                            loss='huber', random_state=42, subsample=.8)\n",
    "#     score = cv_rmsle(GBoost)\n",
    "#     if score < best_score:\n",
    "#         print(f\"The tree with: n_estimators={n_est} is the current best with the score of: {score}\")\n",
    "#         best_score = score\n",
    "\n",
    "# best_score"
   ]
  },
  {
   "cell_type": "code",
   "execution_count": 129,
   "id": "f14b265f-3ab2-48cb-be18-29fad4babc90",
   "metadata": {},
   "outputs": [
    {
     "data": {
      "text/plain": [
       "0.0087622473019403"
      ]
     },
     "execution_count": 129,
     "metadata": {},
     "output_type": "execute_result"
    }
   ],
   "source": [
    "GBoost = GradientBoostingRegressor(n_estimators=1700, learning_rate=0.05,\n",
    "                           max_depth=2, max_features='sqrt',\n",
    "                           loss='huber', random_state=42, subsample=.8)\n",
    "cv_rmsle(GBoost)"
   ]
  },
  {
   "cell_type": "markdown",
   "id": "da18488a-1605-4bf2-9dba-a35068c47f17",
   "metadata": {},
   "source": [
    "### 3.2.5 XGBoost"
   ]
  },
  {
   "cell_type": "code",
   "execution_count": 130,
   "id": "34ae9ac0-df58-47e7-8d30-df361d131990",
   "metadata": {},
   "outputs": [],
   "source": [
    "from xgboost import XGBRegressor\n",
    "\n",
    "# XGB = XGBRegressor(n_estimators=100, eta=0.05, max_depth=3, subsample=0.8, random_state=42)\n",
    "# cv_rmsle(XGB)"
   ]
  },
  {
   "cell_type": "code",
   "execution_count": 131,
   "id": "0102feb5-ac23-4a8c-a587-7661729e95db",
   "metadata": {},
   "outputs": [],
   "source": [
    "# XGB = XGBRegressor(n_estimators=400, eta=0.05, max_depth=3, subsample=0.8, random_state=42)\n",
    "# cv_rmsle(XGB)"
   ]
  },
  {
   "cell_type": "code",
   "execution_count": 132,
   "id": "189b839e-5236-4f26-9378-cfe4519a18a9",
   "metadata": {},
   "outputs": [],
   "source": [
    "# XGB = XGBRegressor(n_estimators=400, eta=0.05, max_depth=3, subsample=0.6, random_state=42)\n",
    "# cv_rmsle(XGB)"
   ]
  },
  {
   "cell_type": "code",
   "execution_count": 133,
   "id": "79e655b9-08f5-4b40-b185-33ae182d54f4",
   "metadata": {},
   "outputs": [],
   "source": [
    "# XGB = XGBRegressor(n_estimators=400, eta=0.05, max_depth=3, subsample=0.6, colsample_bytree=0.4, random_state=42)\n",
    "# cv_rmsle(XGB)"
   ]
  },
  {
   "cell_type": "code",
   "execution_count": 134,
   "id": "108543c0-da68-48e5-9fec-18e3f21a782f",
   "metadata": {},
   "outputs": [
    {
     "data": {
      "text/plain": [
       "0.008710719330484578"
      ]
     },
     "execution_count": 134,
     "metadata": {},
     "output_type": "execute_result"
    }
   ],
   "source": [
    "XGB = XGBRegressor(n_estimators=1000, eta=0.02, max_depth=3, subsample=0.5, \n",
    "                   colsample_bytree=0.5, reg_alpha=.005, reg_lambda=1, min_child_weight=1,\n",
    "                    random_state=42)\n",
    "cv_rmsle(XGB)"
   ]
  },
  {
   "cell_type": "markdown",
   "id": "37ae55a6-b634-4a20-8841-e49460a2011c",
   "metadata": {},
   "source": [
    "### 3.2.6 LightGBM"
   ]
  },
  {
   "cell_type": "code",
   "execution_count": 135,
   "id": "2475962f-0938-4366-8a51-03f23f0d01b4",
   "metadata": {},
   "outputs": [
    {
     "data": {
      "text/plain": [
       "0.008732247120813452"
      ]
     },
     "execution_count": 135,
     "metadata": {},
     "output_type": "execute_result"
    }
   ],
   "source": [
    "from lightgbm import LGBMRegressor\n",
    "\n",
    "LGBM = LGBMRegressor(objective='regression', n_estimators=830, learning_rate =0.02, verbose=-1,\n",
    "                     max_depth=4, \n",
    "                     num_leaves=13, min_data_in_leaf=5,\n",
    "                     min_sum_hessian_in_leaf=5,\n",
    "                     feature_fraction=0.235,\n",
    "                     bagging_freq=9, bagging_fraction=0.8,\n",
    "                     max_bin=110,\n",
    "                     lambda_l1=.005, lambda_l2 =.005,\n",
    "                     feature_fraction_seed=42, bagging_seed=42, max_iter=1100)\n",
    "# LGBM = LGBMRegressor(objective='regression',num_leaves=5,\n",
    "#                               learning_rate=0.05, n_estimators=720,\n",
    "#                               max_bin = 55, bagging_fraction = 0.8,\n",
    "#                               bagging_freq = 5, feature_fraction = 0.2319,\n",
    "#                               feature_fraction_seed=42, bagging_seed=42,\n",
    "#                               min_data_in_leaf =6, min_sum_hessian_in_leaf = 11)\n",
    "cv_rmsle(LGBM)"
   ]
  },
  {
   "cell_type": "markdown",
   "id": "838370a6-5713-438b-9625-89ac72f61862",
   "metadata": {},
   "source": [
    "### 3.2.7 Histogram-based Gradient Boosting Regression"
   ]
  },
  {
   "cell_type": "code",
   "execution_count": 136,
   "id": "4fadd14d-4dcf-44b7-81da-da4b37cc95fb",
   "metadata": {},
   "outputs": [],
   "source": [
    "# from sklearn.model_selection import RandomizedSearchCV\n",
    "# from scipy.stats import loguniform\n",
    "# from sklearn.ensemble import HistGradientBoostingRegressor\n",
    "\n",
    "# hgb_params = {\n",
    "#     'learning_rate': loguniform(0.01, 0.5),\n",
    "#     'max_depth': [3, 4, 5, 6, 7],\n",
    "#     'max_leaf_nodes': [10, 15, 30, 45, 60],\n",
    "#     'max_bins': [40, 60, 80, 100, 150],\n",
    "#     'max_iter': [100, 250, 500, 750, 1000, 1200],\n",
    "#     'l2_regularization': [0.0005, 0.005, 0.05, 0.5]\n",
    "# }\n",
    "\n",
    "# search_cv = RandomizedSearchCV(\n",
    "#     HistGradientBoostingRegressor(loss='gamma', random_state=42, max_features=.8),\n",
    "#     param_distributions=hgb_params,\n",
    "#     scoring=\"neg_mean_squared_log_error\",\n",
    "#     n_iter=300,\n",
    "#     random_state=42,\n",
    "#     n_jobs=-1,\n",
    "#     verbose=4\n",
    "# )\n",
    "\n",
    "# search_cv.fit(train, train_df['SalePrice'])"
   ]
  },
  {
   "cell_type": "code",
   "execution_count": 138,
   "id": "2a569b80-656e-419d-8b7f-8032ca42d06d",
   "metadata": {},
   "outputs": [],
   "source": [
    "# columns = [f\"param_{name}\" for name in hgb_params.keys()]\n",
    "# columns += [\"mean_test_error\", \"std_test_error\"]\n",
    "# cv_results = pd.DataFrame(search_cv.cv_results_)\n",
    "# cv_results[\"mean_test_error\"] = np.sqrt(-cv_results[\"mean_test_score\"])\n",
    "# cv_results[\"std_test_error\"] = cv_results[\"std_test_score\"]\n",
    "# cv_results[columns].sort_values(by=\"mean_test_error\").head()"
   ]
  },
  {
   "cell_type": "code",
   "execution_count": 139,
   "id": "f402eb20-88bf-47f3-bead-e14c5d001086",
   "metadata": {},
   "outputs": [],
   "source": [
    "# search_cv.best_params_"
   ]
  },
  {
   "cell_type": "code",
   "execution_count": 141,
   "id": "c87670c7-a5ad-4009-bd9d-aab823f9b2da",
   "metadata": {},
   "outputs": [
    {
     "data": {
      "text/plain": [
       "0.009306530317966626"
      ]
     },
     "execution_count": 141,
     "metadata": {},
     "output_type": "execute_result"
    }
   ],
   "source": [
    "from sklearn.ensemble import HistGradientBoostingRegressor\n",
    "\n",
    "HGB =  HistGradientBoostingRegressor(learning_rate=0.02241582866616425, max_bins=60,\n",
    "                                     max_depth=3, max_iter=1200, max_leaf_nodes=15,\n",
    "                                     loss='gamma', random_state=42, max_features=.8,\n",
    "                                    l2_regularization=3)\n",
    "cv_rmsle(HGB)"
   ]
  },
  {
   "cell_type": "markdown",
   "id": "d331d451-9974-47db-a455-47628c4fc6cb",
   "metadata": {},
   "source": [
    "## 3.3 Defining the final model\n"
   ]
  },
  {
   "cell_type": "markdown",
   "id": "771a7d1e-fe28-4247-9c43-19929241290c",
   "metadata": {},
   "source": [
    "### 3.3.1 Building the model"
   ]
  },
  {
   "cell_type": "markdown",
   "id": "1d99dac1-dc57-4b32-b041-9bd7cd0c445a",
   "metadata": {},
   "source": [
    "We will build the final model by combining the base models into a Voting Regressor, and then into a Stacking Regressor.\\\n",
    "<b>Stacking regressor</b> stacks the output of individual estimator and uses a regressor to compute the final prediction. This allows the model to use the strength of each individual submodel by using their output as input of a final estimator. \\\n",
    "<b>Voting regressor</b> fits several base models, then it averages the individual predictions to form a final prediction."
   ]
  },
  {
   "cell_type": "code",
   "execution_count": 142,
   "id": "a8bd4446-d342-4d9e-b15b-b90c15f9050b",
   "metadata": {},
   "outputs": [
    {
     "data": {
      "text/plain": [
       "0.008355648920106313"
      ]
     },
     "execution_count": 142,
     "metadata": {},
     "output_type": "execute_result"
    }
   ],
   "source": [
    "from sklearn.ensemble import VotingRegressor, StackingRegressor\n",
    "\n",
    "voting_1 = VotingRegressor(estimators=[\n",
    "    ('lasso', lasso),\n",
    "    ('KRR', KRR),\n",
    "    ('ENet', ENet),\n",
    "], n_jobs=-1, weights=[.4, .3, .3])\n",
    "\n",
    "\n",
    "stacking = StackingRegressor(estimators=[\n",
    "    ('voting', voting_1),\n",
    "    ('XGB', XGB),\n",
    "    ('LGBM', LGBM),\n",
    "    ('GBoost', GBoost),\n",
    "    #('HGB', HGB)\n",
    "])#weights=[.2, .3, .25, .1, .15])\n",
    "\n",
    "cv_rmsle(stacking)"
   ]
  },
  {
   "cell_type": "markdown",
   "id": "91bf623d-1926-4a0c-9fb8-2130edd2097a",
   "metadata": {},
   "source": [
    "### 3.3.2 Training the final model"
   ]
  },
  {
   "cell_type": "code",
   "execution_count": 234,
   "id": "b186ad20-1a4c-47de-b802-6fbf0d5cadd8",
   "metadata": {},
   "outputs": [],
   "source": [
    "from sklearn.metrics import mean_squared_error\n",
    "\n",
    "def rmsle(y, y_pred):\n",
    "    return np.sqrt(mean_squared_error(y, y_pred))"
   ]
  },
  {
   "cell_type": "code",
   "execution_count": 228,
   "id": "1a33594d-a9f1-4fdf-9c25-3f621148e0d8",
   "metadata": {},
   "outputs": [
    {
     "name": "stdout",
     "output_type": "stream",
     "text": [
      "RMSLE on train: 0.005698089508470894\n"
     ]
    }
   ],
   "source": [
    "train = all_df[:len(train_df)]\n",
    "test = all_df[len(train_df):]\n",
    "X_train = train\n",
    "y_train = train_df['SalePrice']\n",
    "\n",
    "stacking.fit(X_train.values, y_train)\n",
    "stacking_train_preds = stacking.predict(train.values)\n",
    "stacking_test_preds = np.expm1(stacking.predict(test.values))\n",
    "print(f'RMSLE on train: {rmsle(y_train, stacking_train_preds)}')"
   ]
  },
  {
   "cell_type": "code",
   "execution_count": 235,
   "id": "ae702e40-7f91-45b2-ba49-8fa0c888114d",
   "metadata": {},
   "outputs": [
    {
     "data": {
      "text/plain": [
       "0.07310213694064566"
      ]
     },
     "execution_count": 235,
     "metadata": {},
     "output_type": "execute_result"
    }
   ],
   "source": [
    "rmsle(y_train, stacking_train_preds)"
   ]
  },
  {
   "cell_type": "markdown",
   "id": "82bf4d1e-6ae4-4e29-9ac2-a3832a997f0a",
   "metadata": {},
   "source": [
    "### 3.3.3 Creating a submission file"
   ]
  },
  {
   "cell_type": "code",
   "execution_count": 229,
   "id": "9750dd93-90ef-44c0-82af-cd0daf7846b7",
   "metadata": {},
   "outputs": [],
   "source": [
    "submission = pd.DataFrame()\n",
    "submission['Id'] = pd.read_csv(DATA_DIR + 'test.csv', usecols=['Id'])\n",
    "submission['SalePrice'] = stacking_test_preds\n",
    "submission.to_csv('submission.csv',index=False)"
   ]
  }
 ],
 "metadata": {
  "kernelspec": {
   "display_name": "Python 3 (ipykernel)",
   "language": "python",
   "name": "python3"
  },
  "language_info": {
   "codemirror_mode": {
    "name": "ipython",
    "version": 3
   },
   "file_extension": ".py",
   "mimetype": "text/x-python",
   "name": "python",
   "nbconvert_exporter": "python",
   "pygments_lexer": "ipython3",
   "version": "3.9.18"
  }
 },
 "nbformat": 4,
 "nbformat_minor": 5
}
